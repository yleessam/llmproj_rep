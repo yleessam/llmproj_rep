{
 "cells": [
  {
   "cell_type": "code",
   "execution_count": 1,
   "id": "c26a4404",
   "metadata": {},
   "outputs": [
    {
     "name": "stdout",
     "output_type": "stream",
     "text": [
      "API Key configured: True\n"
     ]
    }
   ],
   "source": [
    "from dotenv import load_dotenv\n",
    "import os\n",
    "load_dotenv()\n",
    "openai_api_key = os.getenv('OPENAI_API_KEY')\n",
    "print(\"API Key configured:\", \"OPENAI_API_KEY\" in os.environ)\n",
    "from openai import OpenAI\n",
    "client = OpenAI()"
   ]
  },
  {
   "cell_type": "code",
   "execution_count": 3,
   "id": "6069d60b",
   "metadata": {},
   "outputs": [],
   "source": [
    "response = client.chat.completions.create(\n",
    "  model='gpt-4o-mini', #omni model\n",
    "  messages=[\n",
    "    {'role':'user', 'content': \"파이썬에 대해 알려줘\"}\n",
    "  ]\n",
    ")"
   ]
  },
  {
   "cell_type": "code",
   "execution_count": 5,
   "id": "ace477b7",
   "metadata": {},
   "outputs": [
    {
     "data": {
      "text/plain": [
       "'파이썬(Python)은 고급 프로그래밍 언어로, 1991년 귀도 반 로썸(Guido van Rossum)에 의해 처음 발표되었습니다. 파이썬은 읽기 쉽고, 코드가 간결하며, 강력한 기능을 제공하여 다양한 용도로 사용됩니다. 아래는 파이썬의 주요 특징과 용도에 대한 설명입니다.\\n\\n### 주요 특징\\n\\n1. **가독성**: 파이썬은 코드가 읽기 쉽고 가독성이 높도록 설계되었습니다. 이는 유지보수와 협업에 유리합니다.\\n\\n2. **인터프리터 언어**: 파이썬은 인터프리터 언어이므로, 코드를 한 줄씩 실행할 수 있어 빠른 테스트와 디버깅이 가능합니다.\\n\\n3. **동적 타이핑**: 변수의 타입을 명시적으로 선언할 필요 없이, 실행 중에 변수의 타입이 결정됩니다.\\n\\n4. **풍부한 라이브러리**: 데이터 과학, 웹 개발, 머신러닝 등 다양한 분야를 위한 방대한 표준 라이브러리와 서드파티 라이브러리를 지원합니다.\\n\\n5. **Cross-Platform**: Windows, macOS, Linux 등 여러 운영 체제에서 사용할 수 있습니다.\\n\\n6. **객체 지향 및 함수형 프로그래밍 지원**: 객체 지향 프로그래밍(OOP)과 함수형 프로그래밍 패러다임을 모두 지원하여, 개발자가 선호하는 방식으로 코드를 작성할 수 있습니다.\\n\\n### 주요 용도\\n\\n1. **웹 개발**: Django, Flask와 같은 프레임워크를 이용하여 웹 애플리케이션을 개발할 수 있습니다.\\n\\n2. **데이터 분석**: Pandas, NumPy, Matplotlib 등의 라이브러리를 사용하여 데이터 처리 및 시각화 작업을 할 수 있습니다.\\n\\n3. **인공지능 및 머신러닝**: TensorFlow, Keras, Scikit-learn 등의 라이브러리를 활용하여 머신러닝 모델을 구축하고 학습시킬 수 있습니다.\\n\\n4. **자동화 및 스크립트 작성**: 파일 처리, 웹 크롤링, 시스템 자동화 등의 작업을 위한 스크립트를 쉽게 작성할 수 있습니다.\\n\\n5. **게임 개발**: Pygame과 같은 라이브러리를 사용하여 2D 게임을 개발할 수 있습니다.\\n\\n### 파이썬 시작하기\\n\\n파이썬을 시작하려면 다음과 같은 방법으로 설치할 수 있습니다:\\n\\n1. **파이썬 공식 웹사이트**: [python.org](https://www.python.org)에서 설치 파일을 다운로드하여 설치합니다.\\n2. **Anaconda**: 데이터 과학과 머신러닝을 위해 Anaconda 배포판을 사용하는 것이 좋습니다. Anaconda는 파이썬과 여러 유용한 패키지를 함께 설치할 수 있습니다.\\n\\n기본적인 문법과 개념을 익힌 후, 다양한 프로젝트와 라이브러리를 활용해보세요!'"
      ]
     },
     "execution_count": 5,
     "metadata": {},
     "output_type": "execute_result"
    }
   ],
   "source": [
    "response.choices[0].message.content"
   ]
  },
  {
   "cell_type": "code",
   "execution_count": 6,
   "id": "d963be78",
   "metadata": {},
   "outputs": [
    {
     "name": "stdout",
     "output_type": "stream",
     "text": [
      "ChatGPT 답변: 안녕하세요! 저는 실시간 정보를 제공할 수는 없지만, 현재 날씨를 확인하시려면 기상청 웹사이트나 날씨 앱을 이용하시는 것이 좋습니다. 도움이 필요하시면 언제든지 말씀해 주세요!\n"
     ]
    }
   ],
   "source": [
    "message = {\"role\": \"user\", \"content\": \"안녕하세요, 오늘 날씨는 어떤가요?\"}\n",
    "response = client.chat.completions.create(\n",
    "    model=\"gpt-4o-mini\",\n",
    "    messages=[ message ]\n",
    ")\n",
    "assistant_reply = response.choices[0].message.content\n",
    "print(\"ChatGPT 답변:\", assistant_reply)"
   ]
  },
  {
   "cell_type": "markdown",
   "id": "3e09069a",
   "metadata": {},
   "source": [
    "# 출력 형식 지정"
   ]
  },
  {
   "cell_type": "code",
   "execution_count": 8,
   "id": "5c07cfdd",
   "metadata": {},
   "outputs": [
    {
     "name": "stdout",
     "output_type": "stream",
     "text": [
      "ChatGPT 답변: {\n",
      "  \"weather\": \"맑음\",\n",
      "  \"temperature\": \"22°C\"\n",
      "} \n",
      "\n",
      "    \n",
      " \n"
     ]
    }
   ],
   "source": [
    "message = {\"role\": \"user\", \"content\": \"오늘 서울 날씨를 json 형태로 제공해. 키는 weather, temperature 로 설정해 \"}\n",
    "response = client.chat.completions.create(\n",
    "    model=\"gpt-4o-mini\",\n",
    "    messages=[ message ],\n",
    "    response_format={'type':'json_object'}\n",
    ")\n",
    "assistant_reply = response.choices[0].message.content\n",
    "print(\"ChatGPT 답변:\", assistant_reply)"
   ]
  },
  {
   "cell_type": "code",
   "execution_count": 10,
   "id": "b5fef82e",
   "metadata": {},
   "outputs": [
    {
     "data": {
      "text/plain": [
       "dict_keys(['weather', 'temperature'])"
      ]
     },
     "execution_count": 10,
     "metadata": {},
     "output_type": "execute_result"
    }
   ],
   "source": [
    "import json\n",
    "data = json.loads(assistant_reply)\n",
    "data.keys()"
   ]
  },
  {
   "cell_type": "code",
   "execution_count": null,
   "id": "269d70fa",
   "metadata": {},
   "outputs": [],
   "source": []
  },
  {
   "cell_type": "code",
   "execution_count": null,
   "id": "c1d8a596",
   "metadata": {},
   "outputs": [],
   "source": [
    "# 도시명... 의 날씨는 현재 .... 이고, 온도는 ... 입니다."
   ]
  }
 ],
 "metadata": {
  "kernelspec": {
   "display_name": "prompting_env",
   "language": "python",
   "name": "python3"
  },
  "language_info": {
   "codemirror_mode": {
    "name": "ipython",
    "version": 3
   },
   "file_extension": ".py",
   "mimetype": "text/x-python",
   "name": "python",
   "nbconvert_exporter": "python",
   "pygments_lexer": "ipython3",
   "version": "3.12.11"
  }
 },
 "nbformat": 4,
 "nbformat_minor": 5
}
