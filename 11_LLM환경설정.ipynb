{
 "cells": [
  {
   "cell_type": "markdown",
   "id": "b1f21e9c",
   "metadata": {},
   "source": [
    "# openai\n",
    "# upstage\n",
    "# ollama"
   ]
  },
  {
   "cell_type": "code",
   "execution_count": 2,
   "id": "edb0afd2",
   "metadata": {},
   "outputs": [],
   "source": [
    "#!pip install langchain-upstage"
   ]
  },
  {
   "cell_type": "code",
   "execution_count": 5,
   "id": "80fe56f7",
   "metadata": {},
   "outputs": [
    {
     "name": "stdout",
     "output_type": "stream",
     "text": [
      "API Key configured: True\n"
     ]
    }
   ],
   "source": [
    "from dotenv import load_dotenv\n",
    "import os\n",
    "load_dotenv()\n",
    "openai_api_key = os.getenv('UPSTAGE_API_KEY')\n",
    "print(\"API Key configured:\", \"UPSTAGE_API_KEY\" in os.environ)"
   ]
  },
  {
   "cell_type": "code",
   "execution_count": 6,
   "id": "cc9c3479",
   "metadata": {},
   "outputs": [
    {
     "name": "stdout",
     "output_type": "stream",
     "text": [
      "content='안녕하세요! 저는 **Upstage**에서 개발한 **Solar Pro 2**입니다.  \\n30.9B 파라미터 규모의 고성능 LLM으로, 복잡한 추론과 창의적인 텍스트 생성이 가능합니다. 😊' additional_kwargs={'refusal': None} response_metadata={'token_usage': {'completion_tokens': 42, 'prompt_tokens': 22, 'total_tokens': 64, 'completion_tokens_details': {'accepted_prediction_tokens': 0, 'audio_tokens': 0, 'reasoning_tokens': 0, 'rejected_prediction_tokens': 0}, 'prompt_tokens_details': {'audio_tokens': 0, 'cached_tokens': 0}}, 'model_name': 'solar-pro2-250710', 'system_fingerprint': None, 'id': 'ab5c21f3-9ef2-4b1b-9583-31a2797fda43', 'service_tier': None, 'finish_reason': 'stop', 'logprobs': None} id='run--5d6cd42b-045b-4481-8c96-aac478a037ef-0' usage_metadata={'input_tokens': 22, 'output_tokens': 42, 'total_tokens': 64, 'input_token_details': {'audio': 0, 'cache_read': 0}, 'output_token_details': {'audio': 0, 'reasoning': 0}}\n"
     ]
    }
   ],
   "source": [
    "# pip install -qU langchain-core langchain-upstage\n",
    " \n",
    "from langchain_upstage import ChatUpstage\n",
    "from langchain_core.messages import HumanMessage\n",
    " \n",
    "chat = ChatUpstage(api_key=os.getenv('UPSTAGE_API_KEY'), model=\"solar-pro2\")\n",
    " \n",
    "messages = [\n",
    "    HumanMessage(\n",
    "        content=\"안녕? 네 소개를 2줄로 작성해\"\n",
    "    )\n",
    "]\n",
    " \n",
    "response = chat.invoke(messages)\n",
    "print(response)"
   ]
  },
  {
   "cell_type": "code",
   "execution_count": 7,
   "id": "3892284b",
   "metadata": {},
   "outputs": [
    {
     "name": "stderr",
     "output_type": "stream",
     "text": [
      "C:\\Users\\Admin\\AppData\\Local\\Temp\\ipykernel_4244\\3721171275.py:2: LangChainDeprecationWarning: The class `ChatOllama` was deprecated in LangChain 0.3.1 and will be removed in 1.0.0. An updated version of the class exists in the :class:`~langchain-ollama package and should be used instead. To use it run `pip install -U :class:`~langchain-ollama` and import as `from :class:`~langchain_ollama import ChatOllama``.\n",
      "  llm_ollama = ChatOllama(model='gemma2')\n"
     ]
    },
    {
     "data": {
      "text/plain": [
       "'안녕하세요! 저는 구글에서 훈련된 대형 언어 모델입니다.\\n\\n텍스트 생성, 번역, 요약 등 다양한 작업을 수행할 수 있으며, 사용자와 자연스럽게 대화하고 정보를 제공하는 데 최선을 다합니다.'"
      ]
     },
     "execution_count": 7,
     "metadata": {},
     "output_type": "execute_result"
    }
   ],
   "source": [
    "from langchain_community.chat_models import ChatOllama\n",
    "llm_ollama = ChatOllama(model='gemma2')\n",
    "response = llm_ollama.invoke('안녕? 네 소개를 2줄로 작성해')\n",
    "response.content"
   ]
  }
 ],
 "metadata": {
  "kernelspec": {
   "display_name": "prompting_env",
   "language": "python",
   "name": "python3"
  },
  "language_info": {
   "codemirror_mode": {
    "name": "ipython",
    "version": 3
   },
   "file_extension": ".py",
   "mimetype": "text/x-python",
   "name": "python",
   "nbconvert_exporter": "python",
   "pygments_lexer": "ipython3",
   "version": "3.12.11"
  }
 },
 "nbformat": 4,
 "nbformat_minor": 5
}
