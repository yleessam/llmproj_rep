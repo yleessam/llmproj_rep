{
 "cells": [
  {
   "cell_type": "code",
   "execution_count": 1,
   "id": "bc1b4424",
   "metadata": {},
   "outputs": [
    {
     "data": {
      "text/plain": [
       "'0.3.27'"
      ]
     },
     "execution_count": 1,
     "metadata": {},
     "output_type": "execute_result"
    }
   ],
   "source": [
    "import langchain\n",
    "langchain.__version__"
   ]
  },
  {
   "cell_type": "code",
   "execution_count": 2,
   "id": "f8a2fa62",
   "metadata": {},
   "outputs": [
    {
     "data": {
      "text/plain": [
       "ChatOpenAI(client=<openai.resources.chat.completions.completions.Completions object at 0x000001886085A7E0>, async_client=<openai.resources.chat.completions.completions.AsyncCompletions object at 0x0000018861E0E660>, root_client=<openai.OpenAI object at 0x00000188603619D0>, root_async_client=<openai.AsyncOpenAI object at 0x0000018860859010>, model_name='gpt-4o-mini', model_kwargs={}, openai_api_key=SecretStr('**********'))"
      ]
     },
     "execution_count": 2,
     "metadata": {},
     "output_type": "execute_result"
    }
   ],
   "source": [
    "from langchain_openai import ChatOpenAI\n",
    "llm = ChatOpenAI(model='gpt-4o-mini')\n",
    "llm"
   ]
  },
  {
   "cell_type": "code",
   "execution_count": 3,
   "id": "c77d6ba5",
   "metadata": {},
   "outputs": [],
   "source": [
    "messages = [\n",
    "    (\"system\", \"당신은 서울의 음식과 문화 전문가입니다.\"),\n",
    "    (\"human\", \"서울을 대표하는 음식을 맛볼 수 있는 레스토랑 5개를 추천해 주세요.\") \n",
    "]\n",
    "res = llm.invoke(messages)\n"
   ]
  },
  {
   "cell_type": "code",
   "execution_count": 5,
   "id": "f346ea44",
   "metadata": {},
   "outputs": [
    {
     "data": {
      "text/plain": [
       "'서울에서 대표적인 음식을 맛볼 수 있는 레스토랑 다섯 곳을 추천해 드리겠습니다.\\n\\n1. **광장시장 – 마담밍(Madame M)**  \\n   이곳은 전통적인 한국 길거리 음식을 현대적으로 재해석한 메뉴를 제공합니다. 특히 마늘을 곁들인 다양한 전통 전과 함께 손색 없는 비빔밥을 맛볼 수 있습니다.\\n\\n2. **백두산 (Baekdusan)**  \\n   한정식 전문 레스토랑으로, 다양한 전통 반찬과 함께 고급 한식을 제공합니다. 정갈한 분위기에서 전통적인 한국 요리를 맛볼 수 있습니다.\\n\\n3. **토속촌삼계탕 (Tosokchon Samgyetang)**  \\n   삼계탕의 명소로 유명한 이곳은 신선한 재료로 만든 삼계탕을 제공합니다. 한약재와 영양 가득 찬 닭고기로 맛있고 건강한 식사를 즐길 수 있습니다.\\n\\n4. **신촌 골뱅이**  \\n   서울의 해산물 요리를 대표하는 곳 중 하나로, 맛있는 골뱅이 무침과 함께 소주를 즐길 수 있습니다. 특히, 그들의 비밀 소스가 독특한 맛을 선사합니다.\\n\\n5. **해장국집 (Haegukjeongol)**  \\n   서울의 전통적인 해장국을 맛볼 수 있는 곳으로, 다양한 종류의 해장국과 함께 볶음밥이 인기입니다. 숙취해소에 좋은 메뉴로 사랑받고 있습니다.\\n\\n각 레스토랑은 서울의 음식 문화와 전통을 느낄 수 있는 장소로, 현지인들과 관광객 모두에게 인기가 많습니다. 맛있는 음식과 함께 서울의 멋진 문화를 경험해 보세요!'"
      ]
     },
     "execution_count": 5,
     "metadata": {},
     "output_type": "execute_result"
    }
   ],
   "source": [
    "res.content"
   ]
  }
 ],
 "metadata": {
  "kernelspec": {
   "display_name": "prompting_env",
   "language": "python",
   "name": "python3"
  },
  "language_info": {
   "codemirror_mode": {
    "name": "ipython",
    "version": 3
   },
   "file_extension": ".py",
   "mimetype": "text/x-python",
   "name": "python",
   "nbconvert_exporter": "python",
   "pygments_lexer": "ipython3",
   "version": "3.12.11"
  }
 },
 "nbformat": 4,
 "nbformat_minor": 5
}
