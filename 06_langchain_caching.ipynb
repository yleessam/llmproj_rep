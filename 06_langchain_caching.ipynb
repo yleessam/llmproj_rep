{
 "cells": [
  {
   "cell_type": "code",
   "execution_count": 1,
   "id": "2689e681",
   "metadata": {},
   "outputs": [
    {
     "data": {
      "text/plain": [
       "'0.3.27'"
      ]
     },
     "execution_count": 1,
     "metadata": {},
     "output_type": "execute_result"
    }
   ],
   "source": [
    "import langchain\n",
    "langchain.__version__"
   ]
  },
  {
   "cell_type": "code",
   "execution_count": 2,
   "id": "5ed93d47",
   "metadata": {},
   "outputs": [
    {
     "data": {
      "text/plain": [
       "ChatOpenAI(client=<openai.resources.chat.completions.completions.Completions object at 0x000002C4691FDD00>, async_client=<openai.resources.chat.completions.completions.AsyncCompletions object at 0x000002C468E21F40>, root_client=<openai.OpenAI object at 0x000002C46766E4B0>, root_async_client=<openai.AsyncOpenAI object at 0x000002C467C9E900>, model_name='gpt-4o-mini', model_kwargs={}, openai_api_key=SecretStr('**********'))"
      ]
     },
     "execution_count": 2,
     "metadata": {},
     "output_type": "execute_result"
    }
   ],
   "source": [
    "from langchain_openai import ChatOpenAI\n",
    "llm = ChatOpenAI(model='gpt-4o-mini')\n",
    "llm"
   ]
  },
  {
   "cell_type": "code",
   "execution_count": 3,
   "id": "dd1b11b6",
   "metadata": {},
   "outputs": [
    {
     "data": {
      "text/plain": [
       "AIMessage(content='서울에서 대표적인 음식을 맛볼 수 있는 레스토랑 5곳을 추천해 드리겠습니다.\\n\\n1. **한남동 곰탕집** - 서울의 대표적인 곰탕을 맛볼 수 있는 곳으로, 진한 국물과 부드러운 고기로 유명합니다. 간단한 반찬과 함께 곰탕을 즐길 수 있습니다.\\n\\n2. **마포갈매기** - 마포에서 유명한 갈비살과 삼겹살을 맛볼 수 있는 고기집입니다. 직접 구워먹는 고기의 맛이 일품이며, 숯불 향이 더해져 더욱 맛있습니다.\\n\\n3. **부대찌개 명가** - 서울에서 유명한 부대찌개 전문점으로, 다양한 재료가 들어간 얼큰한 국물과 쫄깃한 소시지가 인기입니다. 소주와 함께 즐기기 좋은 메뉴입니다.\\n\\n4. **신사동 쭈꾸미** - 매운 양념으로 볶은 쭈꾸미를 전문으로 하는 식당입니다. 쭈꾸미와 함께 나오는 다양한 반찬이 입맛을 돋우어 줍니다.\\n\\n5. **광화문 칼국수** - 전통적인 맛의 칼국수와 만두를 전문으로 하는 곳입니다. 국물이 진하고 면발이 탱탱해 많은 사람들에게 사랑받고 있습니다.\\n\\n이들 레스토랑은 서울의 대표 음식을 맛볼 수 있는 좋은 장소들입니다. 각 식당마다 특별한 메뉴나 분위기가 있으니 방문해보시면 좋을 것 같습니다!', additional_kwargs={'refusal': None}, response_metadata={'token_usage': {'completion_tokens': 346, 'prompt_tokens': 27, 'total_tokens': 373, 'completion_tokens_details': {'accepted_prediction_tokens': 0, 'audio_tokens': 0, 'reasoning_tokens': 0, 'rejected_prediction_tokens': 0}, 'prompt_tokens_details': {'audio_tokens': 0, 'cached_tokens': 0}}, 'model_name': 'gpt-4o-mini-2024-07-18', 'system_fingerprint': 'fp_8bda4d3a2c', 'id': 'chatcmpl-CDL56qrAlTJOnbAnr7mQwjbEeZcj5', 'service_tier': 'default', 'finish_reason': 'stop', 'logprobs': None}, id='run--53ad7b6d-36a0-4916-9065-0feaf1c25c81-0', usage_metadata={'input_tokens': 27, 'output_tokens': 346, 'total_tokens': 373, 'input_token_details': {'audio': 0, 'cache_read': 0}, 'output_token_details': {'audio': 0, 'reasoning': 0}})"
      ]
     },
     "execution_count": 3,
     "metadata": {},
     "output_type": "execute_result"
    }
   ],
   "source": [
    "from langchain_core.messages import HumanMessage\n",
    "message = [\n",
    "  HumanMessage(content='서울을 대표하는 음식을 맛볼 수 있는 레스토랑 5개를 추천해 주세요')\n",
    "]\n",
    "response = llm.invoke(message)\n",
    "response"
   ]
  },
  {
   "cell_type": "markdown",
   "id": "d2b88ad1",
   "metadata": {},
   "source": [
    "# caching\n",
    "1. inmemorycache\n",
    "2. cache db"
   ]
  },
  {
   "cell_type": "code",
   "execution_count": 4,
   "id": "23e6fc79",
   "metadata": {},
   "outputs": [],
   "source": [
    "from langchain_core.globals import set_llm_cache\n",
    "from langchain_core.caches import InMemoryCache\n",
    "\n",
    "set_llm_cache( InMemoryCache() )"
   ]
  },
  {
   "cell_type": "code",
   "execution_count": 6,
   "id": "b4cc8e03",
   "metadata": {},
   "outputs": [
    {
     "data": {
      "text/plain": [
       "AIMessage(content='서울에서 대표적인 음식을 맛볼 수 있는 레스토랑 5곳을 추천해 드릴게요.\\n\\n1. **광화문 미진**  \\n   - **추천 메뉴**: 칼국수  \\n   - 광화문 근처에 위치한 이곳은 신선한 재료로 만든 칼국수와 보리차가 인기입니다. 전통적인 맛을 느낄 수 있는 곳입니다.\\n\\n2. **식탁 위의 쌀**  \\n   - **추천 메뉴**: 비빔밥  \\n   - 이 레스토랑은 다양한 종류의 비빔밥을 제공합니다. 신선하고 건강한 재료로 만든 비빔밥을 즐길 수 있습니다.\\n\\n3. **부산아게**  \\n   - **추천 메뉴**: 해물 파전  \\n   - 서울에서 부산의 맛을 느낄 수 있는 해물 파전 전문 레스토랑입니다. 바삭한 식감과 풍부한 해물 맛이 일품입니다.\\n\\n4. **정식당**  \\n   - **추천 메뉴**: 전통 한식 코스  \\n   - 모던 한식과 전통 한식의 조화를 이룬 정식당은 다양한 반찬과 함께 정교한 한식을 제공합니다. 고급스러운 분위기에서 특별한 저녁을 즐길 수 있습니다.\\n\\n5. **홍대짬뽕**  \\n   - **추천 메뉴**: 짬뽕  \\n   - 서울의 젊은이들이 자주 찾는 인기 있는 짬뽕 전문점입니다. 시원하면서도 매콤한 국물과 신선한 해산물이 조화를 이루는 짬뽕을 맛볼 수 있습니다.\\n\\n이 외에도 서울에는 다양한 맛집이 많으니, 기회가 된다면 여러 곳을 경험해 보시길 추천드립니다!', additional_kwargs={'refusal': None}, response_metadata={'token_usage': {'completion_tokens': 396, 'prompt_tokens': 27, 'total_tokens': 423, 'completion_tokens_details': {'accepted_prediction_tokens': 0, 'audio_tokens': 0, 'reasoning_tokens': 0, 'rejected_prediction_tokens': 0}, 'prompt_tokens_details': {'audio_tokens': 0, 'cached_tokens': 0}}, 'model_name': 'gpt-4o-mini-2024-07-18', 'system_fingerprint': 'fp_8bda4d3a2c', 'id': 'chatcmpl-CDL8lUPkXgSHlpqNFO9G4xTB1T9pe', 'service_tier': 'default', 'finish_reason': 'stop', 'logprobs': None}, id='run--71c80425-f5af-4adc-900e-2b0667e83e6d-0', usage_metadata={'input_tokens': 27, 'output_tokens': 396, 'total_tokens': 423, 'input_token_details': {'audio': 0, 'cache_read': 0}, 'output_token_details': {'audio': 0, 'reasoning': 0}, 'total_cost': 0})"
      ]
     },
     "execution_count": 6,
     "metadata": {},
     "output_type": "execute_result"
    }
   ],
   "source": [
    "response = llm.invoke(message) #5.4s\n",
    "response"
   ]
  },
  {
   "cell_type": "code",
   "execution_count": 7,
   "id": "2e9d8fe9",
   "metadata": {},
   "outputs": [
    {
     "data": {
      "text/plain": [
       "ChatOpenAI(cache=False, client=<openai.resources.chat.completions.completions.Completions object at 0x000002C4692AE690>, async_client=<openai.resources.chat.completions.completions.AsyncCompletions object at 0x000002C4692AE150>, root_client=<openai.OpenAI object at 0x000002C469303DA0>, root_async_client=<openai.AsyncOpenAI object at 0x000002C469302060>, model_name='gpt-4o-mini', model_kwargs={}, openai_api_key=SecretStr('**********'))"
      ]
     },
     "execution_count": 7,
     "metadata": {},
     "output_type": "execute_result"
    }
   ],
   "source": [
    "llm1 = ChatOpenAI(model='gpt-4o-mini', cache=False)\n",
    "llm1"
   ]
  },
  {
   "cell_type": "markdown",
   "id": "35578731",
   "metadata": {},
   "source": [
    "# message가 동일해야 한다. 처음 실행시 캐싱한다."
   ]
  },
  {
   "cell_type": "code",
   "execution_count": 8,
   "id": "666bc949",
   "metadata": {},
   "outputs": [
    {
     "name": "stdout",
     "output_type": "stream",
     "text": [
      "Requirement already satisfied: redis in c:\\users\\admin\\miniconda3\\envs\\prompting_env\\lib\\site-packages (6.4.0)\n"
     ]
    }
   ],
   "source": [
    "!pip install redis"
   ]
  },
  {
   "cell_type": "markdown",
   "id": "4304d895",
   "metadata": {},
   "source": [
    "# redis client test"
   ]
  },
  {
   "cell_type": "code",
   "execution_count": null,
   "id": "3b32aa6d",
   "metadata": {},
   "outputs": [
    {
     "name": "stdout",
     "output_type": "stream",
     "text": [
      "bar\n"
     ]
    }
   ],
   "source": [
    "\"\"\"Basic connection example.\n",
    "\"\"\"\n",
    "\n",
    "import redis\n",
    " #redis client\n",
    "r = redis.Redis(\n",
    "    host='redis-14138.c340.ap-northeast-2-1.ec2.redns.redis-cloud.com',\n",
    "    port=14138,\n",
    "    decode_responses=True,\n",
    "    username=\"default\",\n",
    "    password=\"WQzgJR6MIK3hOX6FIhGDFmZvtEZjZr3x\",\n",
    ")\n",
    "\n",
    "success = r.set('foo', 'bar')\n",
    "# True"
   ]
  },
  {
   "cell_type": "code",
   "execution_count": 11,
   "id": "00648caf",
   "metadata": {},
   "outputs": [
    {
     "name": "stdout",
     "output_type": "stream",
     "text": [
      "None\n"
     ]
    }
   ],
   "source": [
    "result = r.get('foo2')\n",
    "print(result)\n",
    "# >>> bar\n"
   ]
  },
  {
   "cell_type": "markdown",
   "id": "498c8afa",
   "metadata": {},
   "source": [
    "# redis cache 설정"
   ]
  },
  {
   "cell_type": "code",
   "execution_count": null,
   "id": "f6235848",
   "metadata": {},
   "outputs": [],
   "source": [
    "from langchain_community.cache import RedisCache\n",
    "from redis import Redis\n",
    "\n",
    "set_llm_cache( RedisCache( #free 30M\n",
    "  redis_ = Redis(\n",
    "    host='redis-14138.c340.ap-northeast-2-1.ec2.redns.redis-cloud.com',\n",
    "    port=14138,\n",
    "    password='WQzgJR6MIK3hOX6FIhGDFmZvtEZjZr3x'\n",
    "  )\n",
    ") )"
   ]
  },
  {
   "cell_type": "code",
   "execution_count": 17,
   "id": "12eadd32",
   "metadata": {},
   "outputs": [],
   "source": [
    "response = llm.invoke(message) #5.4s"
   ]
  },
  {
   "cell_type": "code",
   "execution_count": null,
   "id": "64ff0d03",
   "metadata": {},
   "outputs": [],
   "source": []
  },
  {
   "cell_type": "markdown",
   "id": "85529a67",
   "metadata": {},
   "source": []
  },
  {
   "cell_type": "code",
   "execution_count": null,
   "id": "392aa1e9",
   "metadata": {},
   "outputs": [],
   "source": []
  }
 ],
 "metadata": {
  "kernelspec": {
   "display_name": "prompting_env",
   "language": "python",
   "name": "python3"
  },
  "language_info": {
   "codemirror_mode": {
    "name": "ipython",
    "version": 3
   },
   "file_extension": ".py",
   "mimetype": "text/x-python",
   "name": "python",
   "nbconvert_exporter": "python",
   "pygments_lexer": "ipython3",
   "version": "3.12.11"
  }
 },
 "nbformat": 4,
 "nbformat_minor": 5
}
