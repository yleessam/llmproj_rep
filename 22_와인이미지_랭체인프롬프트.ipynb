{
 "cells": [
  {
   "cell_type": "code",
   "execution_count": null,
   "id": "3ff56ac7",
   "metadata": {},
   "outputs": [],
   "source": [
    "from langchain.prompts import ChatPromptTemplate\n",
    "SYSTEM_PROMPT = \"You are an expert sommelier with extensive knowledge in wine, wine pairing, and the intricacies of food and beverage service. Your primary role is to assist users in selecting the best wines and pairing them perfectly with meals. You have a deep understanding of various wine regions, grape varieties, wine production methods, and current trends in the industry. You possess a refined palate, able to discern subtle flavors and characteristics in wines. Your advice is always clear, approachable, and tailored to each user’s preferences and specific dining context. You also educate users on wine appreciation, proper wine service, and the art of creating a harmonious dining experience. Your demeanor is professional, courteous, and passionate about wine culture, aiming to make each wine selection and pairing a memorable experience for users.\"\n",
    "wine_query = \"이 와인에 어울리는 요리에는 어떤 것들이 있을까요?\"\n",
    "\n",
    "chat_template = ChatPromptTemplate.from_messages(\n",
    "  [\n",
    "    ('system', SYSTEM_PROMPT),\n",
    "    ('human', [ {'type': 'text', 'text':'{text}'},\n",
    "                {'type':'image_url', 'image_url':  {'url': '{image_url}'}}])\n",
    "  ]\n",
    ")\n",
    "chat_template"
   ]
  },
  {
   "cell_type": "code",
   "execution_count": null,
   "id": "6e9e0843",
   "metadata": {},
   "outputs": [],
   "source": [
    "chain = chat_template:llm:output_parser\n",
    "response = chain.invoke(\n",
    "  {\n",
    "    'text': wine_query,\n",
    "    'image_url': 'https://images.vivino.com/thumbs/Z90I3--JRKWlpMA8wdLY-Q_pb_x600.png'\n",
    "  }\n",
    ")\n",
    "response"
   ]
  }
 ],
 "metadata": {
  "language_info": {
   "name": "python"
  }
 },
 "nbformat": 4,
 "nbformat_minor": 5
}
