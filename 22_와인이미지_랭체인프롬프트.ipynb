{
 "cells": [
  {
   "cell_type": "code",
   "execution_count": 5,
   "id": "595c488b",
   "metadata": {},
   "outputs": [],
   "source": [
    "from dotenv import load_dotenv\n",
    "import os\n",
    "from langchain_openai import ChatOpenAI\n",
    "\n",
    "load_dotenv()\n",
    "\n",
    "llm = ChatOpenAI(model=\"gpt-4o\", temperature=0) "
   ]
  },
  {
   "cell_type": "code",
   "execution_count": 2,
   "id": "3ff56ac7",
   "metadata": {},
   "outputs": [
    {
     "data": {
      "text/plain": [
       "ChatPromptTemplate(input_variables=['image_url', 'text'], input_types={}, partial_variables={}, messages=[SystemMessagePromptTemplate(prompt=PromptTemplate(input_variables=[], input_types={}, partial_variables={}, template='You are an expert sommelier with extensive knowledge in wine, wine pairing, and the intricacies of food and beverage service. Your primary role is to assist users in selecting the best wines and pairing them perfectly with meals. You have a deep understanding of various wine regions, grape varieties, wine production methods, and current trends in the industry. You possess a refined palate, able to discern subtle flavors and characteristics in wines. Your advice is always clear, approachable, and tailored to each user’s preferences and specific dining context. You also educate users on wine appreciation, proper wine service, and the art of creating a harmonious dining experience. Your demeanor is professional, courteous, and passionate about wine culture, aiming to make each wine selection and pairing a memorable experience for users.'), additional_kwargs={}), HumanMessagePromptTemplate(prompt=[PromptTemplate(input_variables=['text'], input_types={}, partial_variables={}, template='{text}'), ImagePromptTemplate(input_variables=['image_url'], input_types={}, partial_variables={}, template={'url': '{image_url}'})], additional_kwargs={})])"
      ]
     },
     "execution_count": 2,
     "metadata": {},
     "output_type": "execute_result"
    }
   ],
   "source": [
    "from langchain.prompts import ChatPromptTemplate\n",
    "SYSTEM_PROMPT = \"You are an expert sommelier with extensive knowledge in wine, wine pairing, and the intricacies of food and beverage service. Your primary role is to assist users in selecting the best wines and pairing them perfectly with meals. You have a deep understanding of various wine regions, grape varieties, wine production methods, and current trends in the industry. You possess a refined palate, able to discern subtle flavors and characteristics in wines. Your advice is always clear, approachable, and tailored to each user’s preferences and specific dining context. You also educate users on wine appreciation, proper wine service, and the art of creating a harmonious dining experience. Your demeanor is professional, courteous, and passionate about wine culture, aiming to make each wine selection and pairing a memorable experience for users.\"\n",
    "wine_query = \"이 와인에 어울리는 요리에는 어떤 것들이 있을까요?\"\n",
    "\n",
    "chat_template = ChatPromptTemplate.from_messages(\n",
    "  [\n",
    "    ('system', SYSTEM_PROMPT),\n",
    "    ('human', [ {'type': 'text', 'text':'{text}'},\n",
    "                {'type':'image_url', 'image_url':  {'url': '{image_url}'}}])\n",
    "  ]\n",
    ")\n",
    "chat_template"
   ]
  },
  {
   "cell_type": "markdown",
   "id": "48077ae7",
   "metadata": {},
   "source": [
    "# recomment_dish_chain 용 랭체인 프롬프트"
   ]
  },
  {
   "cell_type": "code",
   "execution_count": 6,
   "id": "6e9e0843",
   "metadata": {},
   "outputs": [
    {
     "data": {
      "text/plain": [
       "'Primitivo 와인은 일반적으로 풍부하고 과일 향이 강하며, 약간의 스파이시한 맛이 특징입니다. 이 와인에 어울리는 요리로는 다음과 같은 것들이 있습니다:\\n\\n1. **그릴드 스테이크**: 육즙이 풍부한 스테이크는 Primitivo의 풍부한 과일 향과 잘 어울립니다.\\n\\n2. **바비큐 립**: 달콤하고 매콤한 바비큐 소스가 Primitivo의 스파이시한 노트와 조화를 이룹니다.\\n\\n3. **라자냐**: 토마토 소스와 치즈가 듬뿍 들어간 라자냐는 와인의 풍미를 잘 받쳐줍니다.\\n\\n4. **양고기 요리**: 허브와 함께 구운 양고기는 Primitivo의 복합적인 맛과 잘 어울립니다.\\n\\n5. **치즈 플래터**: 특히 고다, 체다 같은 숙성 치즈와 잘 어울립니다.\\n\\n이 와인은 다양한 고기 요리와 잘 어울리며, 풍부한 맛을 가진 음식과 함께 즐기기에 좋습니다.'"
      ]
     },
     "execution_count": 6,
     "metadata": {},
     "output_type": "execute_result"
    }
   ],
   "source": [
    "from langchain_core.output_parsers import StrOutputParser\n",
    "output_parser = StrOutputParser()\n",
    "chain = chat_template|llm|output_parser\n",
    "response = chain.invoke(\n",
    "  {\n",
    "    'text': wine_query,\n",
    "    'image_url': 'https://images.vivino.com/thumbs/Z90I3--JRKWlpMA8wdLY-Q_pb_x600.png'\n",
    "  }\n",
    ")\n",
    "response"
   ]
  },
  {
   "cell_type": "code",
   "execution_count": 7,
   "id": "cf998497",
   "metadata": {},
   "outputs": [],
   "source": [
    "def recommend_dishes_chain(query):\n",
    "    \n",
    "  chat_template = ChatPromptTemplate.from_messages(\n",
    "    [\n",
    "      ('system', SYSTEM_PROMPT),\n",
    "      ('human', [ {'type': 'text', 'text':query['text']},\n",
    "                  {'type':'image_url', 'image_url':  {'url': query['image_url']}}])\n",
    "    ]\n",
    "  )\n",
    "  chain = chat_template|llm|output_parser\n",
    "  return chain"
   ]
  },
  {
   "cell_type": "code",
   "execution_count": 8,
   "id": "af710b23",
   "metadata": {},
   "outputs": [],
   "source": [
    "query_1 = {\n",
    "  'text':wine_query,\n",
    "  'image_url': 'https://images.vivino.com/thumbs/Z90I3--JRKWlpMA8wdLY-Q_pb_x600.png'\n",
    "}\n",
    "rec_dish_chain = recommend_dishes_chain(query_1)"
   ]
  },
  {
   "cell_type": "code",
   "execution_count": 9,
   "id": "0fff0b94",
   "metadata": {},
   "outputs": [
    {
     "data": {
      "text/plain": [
       "'Primitivo 와인은 일반적으로 풍부하고 과일 향이 강하며, 약간의 스파이시한 맛이 특징입니다. 이 와인에 어울리는 요리로는 다음과 같은 것들이 있습니다:\\n\\n1. **바비큐 요리**: 그릴에 구운 고기, 특히 소고기나 양고기와 잘 어울립니다.\\n2. **토마토 소스 파스타**: 진한 토마토 소스가 들어간 파스타 요리와 잘 어울립니다.\\n3. **피자**: 특히 페퍼로니나 소시지가 들어간 피자와 잘 맞습니다.\\n4. **치즈**: 고다, 체다 같은 진한 맛의 치즈와 잘 어울립니다.\\n5. **스튜**: 고기와 야채가 들어간 진한 스튜 요리와도 잘 어울립니다.\\n\\n이 와인의 풍부한 맛과 향이 요리의 맛을 한층 더 돋보이게 해줄 것입니다.'"
      ]
     },
     "execution_count": 9,
     "metadata": {},
     "output_type": "execute_result"
    }
   ],
   "source": [
    "rec_dish_chain.invoke(query_1)"
   ]
  },
  {
   "cell_type": "code",
   "execution_count": 10,
   "id": "adb2990f",
   "metadata": {},
   "outputs": [
    {
     "data": {
      "text/plain": [
       "'Primitivo 와인은 일반적으로 풍부하고 과일 향이 강하며, 약간의 스파이시한 맛이 특징입니다. 이 와인에 어울리는 요리로는 다음과 같은 것들이 있습니다:\\n\\n1. **그릴드 스테이크**: 육즙이 풍부한 스테이크는 Primitivo의 풍부한 과일 향과 잘 어울립니다.\\n\\n2. **바비큐 립**: 달콤하고 매콤한 바비큐 소스가 Primitivo의 스파이시한 노트와 조화를 이룹니다.\\n\\n3. **라자냐**: 토마토 소스와 치즈가 듬뿍 들어간 라자냐는 이 와인의 풍미를 잘 받쳐줍니다.\\n\\n4. **양고기 요리**: 허브와 함께 조리한 양고기는 Primitivo의 복합적인 맛과 잘 어울립니다.\\n\\n5. **치즈 플래터**: 특히 고다, 체다 같은 강한 맛의 치즈와 잘 어울립니다.\\n\\n이 와인은 다양한 고기 요리와 잘 어울리며, 풍부한 맛을 가진 음식과 함께 즐기기에 좋습니다.'"
      ]
     },
     "execution_count": 10,
     "metadata": {},
     "output_type": "execute_result"
    }
   ],
   "source": [
    "from langchain_core.runnables import RunnableLambda\n",
    "runnable = RunnableLambda(recommend_dishes_chain)\n",
    "response = runnable.invoke(query_1)\n",
    "response"
   ]
  },
  {
   "cell_type": "markdown",
   "id": "3c4dfa5e",
   "metadata": {},
   "source": [
    "# describe_dish_flavor_chain 용 랭체인 프롬프트"
   ]
  },
  {
   "cell_type": "code",
   "execution_count": 12,
   "id": "6b6398e3",
   "metadata": {},
   "outputs": [],
   "source": [
    "def describe_dish_flavor_chain(query):\n",
    "  #prompttemplate \n",
    "  # parser\n",
    "  #chain\n",
    "  return ''"
   ]
  },
  {
   "cell_type": "code",
   "execution_count": 13,
   "id": "ddbd018d",
   "metadata": {},
   "outputs": [],
   "source": [
    "dish_system_prompt = \"\"\"\n",
    "            Persona:\n",
    "            As a flavor analysis system, I am equipped with a deep understanding of food ingredients, cooking methods, and sensory properties such as taste, texture, and aroma. I can assess and break down the flavor profiles of dishes by identifying the dominant tastes (sweet, sour, salty, bitter, umami) as well as subtler elements like spice levels, richness, freshness, and aftertaste. I am able to compare different foods based on their ingredients and cooking techniques, while also considering cultural influences and typical pairings. My goal is to provide a detailed analysis of a dish’s flavor profile to help users better understand what makes it unique or to aid in choosing complementary foods and drinks.\n",
    "\n",
    "            Role:\n",
    "\n",
    "            1. Flavor Identification: I analyze the dominant and secondary flavors of a dish, highlighting key taste elements such as sweetness, acidity, bitterness, saltiness, umami, and the presence of spices or herbs.\n",
    "            2. Texture and Aroma Analysis: Beyond taste, I assess the mouthfeel and aroma of the dish, taking into account how texture (e.g., creamy, crunchy) and scents (e.g., smoky, floral) contribute to the overall experience.\n",
    "            3. Ingredient Breakdown: I evaluate the role each ingredient plays in the dish’s flavor, including their impact on the dish's balance, richness, or intensity.\n",
    "            4. Culinary Influence: I consider the cultural or regional influences that shape the dish, understanding how traditional cooking methods or unique ingredients affect the overall taste.\n",
    "            5. Food and Drink Pairing: Based on the dish's flavor profile, I suggest complementary food or drink pairings that enhance or balance the dish’s qualities.\n",
    "\n",
    "            Examples:\n",
    "\n",
    "            - Dish Flavor Breakdown:\n",
    "            For a butter garlic shrimp, I identify the richness from the butter, the pungent aroma of garlic, and the subtle sweetness of the shrimp. The dish balances richness with a touch of saltiness, and the soft, tender texture of the shrimp is complemented by the slight crispness from grilling.\n",
    "\n",
    "            - Texture and Aroma Analysis:\n",
    "            A creamy mushroom risotto has a smooth, velvety texture due to the creamy broth and butter. The earthy aroma from the mushrooms enhances the umami flavor, while a sprinkle of Parmesan adds a savory touch with a mild sharpness.\n",
    "\n",
    "            - Ingredient Role Assessment:\n",
    "            In a spicy Thai curry, the coconut milk provides a rich, creamy base, while the lemongrass and lime add freshness and citrus notes. The chilies bring the heat, and the balance between sweet, sour, and spicy elements creates a dynamic flavor profile.\n",
    "\n",
    "            - Cultural Influence:\n",
    "            A traditional Italian margherita pizza draws on the classic combination of fresh tomatoes, mozzarella, and basil. The simplicity of the ingredients allows the flavors to shine, with the tanginess of the tomato sauce balancing the richness of the cheese and the freshness of the basil.\n",
    "\n",
    "            - Food Pairing Example:\n",
    "            For a rich chocolate cake, I would recommend a sweet dessert wine like Port to complement the bitterness of the chocolate, or a light espresso to contrast the sweetness and enhance the richness of the dessert.\n",
    "        \"\"\""
   ]
  },
  {
   "cell_type": "code",
   "execution_count": 14,
   "id": "2feeec44",
   "metadata": {},
   "outputs": [],
   "source": [
    "def describe_dish_flavor_chain(query):\n",
    "    # 이미지가 있는 경우와 없는 경우를 구분하여 처리\n",
    "    if query.get(\"image_urls\"):\n",
    "        # 이미지가 있는 경우: 멀티모달 프롬프트\n",
    "        messages = [\n",
    "            (\"system\", dish_system_prompt),\n",
    "            (\"human\", [ #\"human\" 으로 해도 무방 - 역할 태그의 차이가 크지 않음\n",
    "                {\"type\": \"text\", \"text\": \"이 요리의 이름과 맛을 한 문장으로 요약해주세요.\"},\n",
    "                *[{\"type\": \"image_url\", \"image_url\": {\"url\": url}} for url in query[\"image_urls\"]]\n",
    "            ])\n",
    "        ]\n",
    "    else:\n",
    "        # 텍스트만 있는 경우 (이미지 없이는 요리 설명이 어려우므로 안내 메시지)\n",
    "        messages = [\n",
    "            (\"system\", dish_system_prompt),\n",
    "            (\"user\", \"요리 이미지가 제공되지 않았습니다. 요리 이미지를 업로드해주시면 정확한 분석을 도와드리겠습니다.\")\n",
    "        ]\n",
    "    \n",
    "    prompt = ChatPromptTemplate.from_messages(messages)\n",
    "    output_parser = StrOutputParser()\n",
    "    \n",
    "    chain = prompt | llm | output_parser\n",
    "    return chain"
   ]
  },
  {
   "cell_type": "code",
   "execution_count": null,
   "id": "910b1c04",
   "metadata": {},
   "outputs": [
    {
     "name": "stdout",
     "output_type": "stream",
     "text": [
      "이 요리는 견과류와 귀리가 어우러진 그래놀라 바로, 고소하고 달콤한 맛이 특징입니다.\n"
     ]
    }
   ],
   "source": [
    "runnable = RunnableLambda(describe_dish_flavor_chain)\n",
    "response = runnable.invoke({\n",
    "    \"image_urls\": [\"https://www.stockfood.com/Sites/StockFood/Documents/Homepage/News//en/16.jpg\"]\n",
    "})\n",
    "\n",
    "print(response)"
   ]
  },
  {
   "cell_type": "markdown",
   "id": "b155f462",
   "metadata": {},
   "source": [
    "# wine_search"
   ]
  },
  {
   "cell_type": "code",
   "execution_count": 18,
   "id": "9a42761d",
   "metadata": {},
   "outputs": [
    {
     "data": {
      "text/plain": [
       "True"
      ]
     },
     "execution_count": 18,
     "metadata": {},
     "output_type": "execute_result"
    }
   ],
   "source": [
    "from dotenv import load_dotenv\n",
    "import os\n",
    "from langchain_openai import ChatOpenAI\n",
    "\n",
    "load_dotenv()"
   ]
  },
  {
   "cell_type": "code",
   "execution_count": 19,
   "id": "9c464ce5",
   "metadata": {},
   "outputs": [],
   "source": [
    "from langchain_openai import OpenAIEmbeddings\n",
    "from langchain_pinecone import PineconeVectorStore\n",
    "\n",
    "embedding = OpenAIEmbeddings(model='text-embedding-3-small')\n",
    "vector_store = PineconeVectorStore(\n",
    "    index_name=os.getenv(\"PINECONE_INDEX_NAME\"),\n",
    "    embedding=embedding,\n",
    "    pinecone_api_key=os.getenv(\"PINECONE_API_KEY\")\n",
    ")"
   ]
  },
  {
   "cell_type": "code",
   "execution_count": 20,
   "id": "9083c1e7",
   "metadata": {},
   "outputs": [
    {
     "data": {
      "text/plain": [
       "[Document(id='d5e69ead-ae12-4330-87b0-1219993d8d6d', metadata={'row': 12067.0, 'source': './winemag-data-130k-v2.csv'}, page_content=': 12067\\ncountry: US\\ndescription: Overtly sweet, this tastes like a dessert pastry turned into wine. The flavors are of orange, pineapple, vanilla-cream and buttered toast.\\ndesignation: Back Seat Blonde\\npoints: 82\\nprice: 14.0\\nprovince: California\\nregion_1: Santa Ynez Valley\\nregion_2: Central Coast\\ntaster_name: \\ntaster_twitter_handle: \\ntitle: Coquelicot 2010 Back Seat Blonde White (Santa Ynez Valley)\\nvariety: White Blend\\nwinery: Coquelicot'),\n",
       " Document(id='3984eddd-0c7d-4da9-b036-e3522cbb0f12', metadata={'row': 12067.0, 'source': './winemag-data-130k-v2.csv'}, page_content=': 12067\\ncountry: US\\ndescription: Overtly sweet, this tastes like a dessert pastry turned into wine. The flavors are of orange, pineapple, vanilla-cream and buttered toast.\\ndesignation: Back Seat Blonde\\npoints: 82\\nprice: 14.0\\nprovince: California\\nregion_1: Santa Ynez Valley\\nregion_2: Central Coast\\ntaster_name: \\ntaster_twitter_handle: \\ntitle: Coquelicot 2010 Back Seat Blonde White (Santa Ynez Valley)\\nvariety: White Blend\\nwinery: Coquelicot'),\n",
       " Document(id='03f0a55c-8b4a-47f9-9378-7c300c2ea562', metadata={'row': 115812.0, 'source': './winemag-data-130k-v2.csv'}, page_content=\": 115812\\ncountry: South Africa\\ndescription: Vanilla toast and a compelling yeasty character on the nose entice. It's a little brighter on the palate, offering a balanced combination of minerality, acid and cream that lingers.\\ndesignation: Nine Yards\\npoints: 87\\nprice: 38.0\\nprovince: Stellenbosch\\nregion_1: \\nregion_2: \\ntaster_name: Susan Kostrzewa\\ntaster_twitter_handle: @suskostrzewa\\ntitle: Jardin 2004 Nine Yards Chardonnay (Stellenbosch)\\nvariety: Chardonnay\\nwinery: Jardin\"),\n",
       " Document(id='919de0cd-d46a-4ef0-bbea-4b224ef80c64', metadata={'row': 115812.0, 'source': './winemag-data-130k-v2.csv'}, page_content=\": 115812\\ncountry: South Africa\\ndescription: Vanilla toast and a compelling yeasty character on the nose entice. It's a little brighter on the palate, offering a balanced combination of minerality, acid and cream that lingers.\\ndesignation: Nine Yards\\npoints: 87\\nprice: 38.0\\nprovince: Stellenbosch\\nregion_1: \\nregion_2: \\ntaster_name: Susan Kostrzewa\\ntaster_twitter_handle: @suskostrzewa\\ntitle: Jardin 2004 Nine Yards Chardonnay (Stellenbosch)\\nvariety: Chardonnay\\nwinery: Jardin\"),\n",
       " Document(id='1c2e2776-4f83-44cd-8bc5-9cda409a2100', metadata={'row': 125634.0, 'source': './winemag-data-130k-v2.csv'}, page_content=': 125634\\ncountry: US\\ndescription: Simple and satisfying with lots of ripe pineapple jam, orange sorbet, caramel, buttered toast, honey and cinnamon spices, in a creamy texture.\\ndesignation: \\npoints: 86\\nprice: 22.0\\nprovince: California\\nregion_1: Carneros\\nregion_2: Napa-Sonoma\\ntaster_name: \\ntaster_twitter_handle: \\ntitle: Jacella 2010 Chardonnay (Carneros)\\nvariety: Chardonnay\\nwinery: Jacella')]"
      ]
     },
     "execution_count": 20,
     "metadata": {},
     "output_type": "execute_result"
    }
   ],
   "source": [
    "# vector store에서 현재 요리의 풍미와 맛과 유사한 와인 검색\n",
    "taste_query =  \"이 요리는 판차넬라 샐러드로, 신선한 토마토와 바질의 상큼함이 빵의 고소함과 어우러져 상쾌하고 풍부한 맛을 냅니다.\"\n",
    "results = vector_store.similarity_search(\n",
    "  taste_query, \n",
    "    k=5, \n",
    "    namespace=os.getenv(\"PINECONE_NAMESPACE\")\n",
    ")\n",
    "\n",
    "results"
   ]
  },
  {
   "cell_type": "code",
   "execution_count": 21,
   "id": "4bc28d2e",
   "metadata": {},
   "outputs": [
    {
     "data": {
      "text/plain": [
       "[Document(id='af81b512-2a9d-468b-9ee2-6ebf9356f376', metadata={'row': 108411.0, 'source': './winemag-data-130k-v2.csv'}, page_content=\": 108411\\ncountry: US\\ndescription: A sweet smell of honeysuckle and grapefruit candy permeates the nose of this bottling, along with cut honeydew melon and apple blossom. Sugary mandarin juice is the primary flavor on the palate, but it's properly offset by acidity a chalky texture.\\ndesignation: \\npoints: 87\\nprice: 29.0\\nprovince: California\\nregion_1: Central Coast\\nregion_2: \\ntaster_name: Matt Kettmann\\ntaster_twitter_handle: @mattkettmann\\ntitle: Coquelicot 2016 Riesling\\nvariety: Riesling\\nwinery: Coquelicot\"),\n",
       " Document(id='7e507d94-9c2a-4637-b164-05e6d65a7836', metadata={'row': 108411.0, 'source': './winemag-data-130k-v2.csv'}, page_content=\": 108411\\ncountry: US\\ndescription: A sweet smell of honeysuckle and grapefruit candy permeates the nose of this bottling, along with cut honeydew melon and apple blossom. Sugary mandarin juice is the primary flavor on the palate, but it's properly offset by acidity a chalky texture.\\ndesignation: \\npoints: 87\\nprice: 29.0\\nprovince: California\\nregion_1: Central Coast\\nregion_2: \\ntaster_name: Matt Kettmann\\ntaster_twitter_handle: @mattkettmann\\ntitle: Coquelicot 2016 Riesling\\nvariety: Riesling\\nwinery: Coquelicot\"),\n",
       " Document(id='ac5f8911-e41f-47d5-9755-2b817c0f8957', metadata={'row': 8158.0, 'source': './winemag-data-130k-v2.csv'}, page_content=\": 8158\\ncountry: US\\ndescription: A sweet smell of honeysuckle and grapefruit candy permeates the nose of this bottling, along with cut honeydew melon and apple blossom. Sugary mandarin juice is the primary flavor on the palate, but it's properly offset by acidity a chalky texture.\\ndesignation: \\npoints: 87\\nprice: 29.0\\nprovince: California\\nregion_1: Central Coast\\nregion_2: \\ntaster_name: Matt Kettmann\\ntaster_twitter_handle: @mattkettmann\\ntitle: Coquelicot 2016 Riesling\\nvariety: Riesling\\nwinery: Coquelicot\"),\n",
       " Document(id='c3061e07-feec-49c7-80ca-0817f3789fdc', metadata={'row': 8158.0, 'source': './winemag-data-130k-v2.csv'}, page_content=\": 8158\\ncountry: US\\ndescription: A sweet smell of honeysuckle and grapefruit candy permeates the nose of this bottling, along with cut honeydew melon and apple blossom. Sugary mandarin juice is the primary flavor on the palate, but it's properly offset by acidity a chalky texture.\\ndesignation: \\npoints: 87\\nprice: 29.0\\nprovince: California\\nregion_1: Central Coast\\nregion_2: \\ntaster_name: Matt Kettmann\\ntaster_twitter_handle: @mattkettmann\\ntitle: Coquelicot 2016 Riesling\\nvariety: Riesling\\nwinery: Coquelicot\"),\n",
       " Document(id='c46a9b3a-d22a-4f28-bca1-8ddf809751b5', metadata={'row': 11863.0, 'source': './winemag-data-130k-v2.csv'}, page_content=': 11863\\ncountry: US\\ndescription: A little clumsy in the mouth, with some green flavors alongside the apricot, citrus and slate flavors. Seems a bit off-dry, although high acidity provides balance. The final impression is of a rustic and everyday quaff.\\ndesignation: \\npoints: 84\\nprice: 24.0\\nprovince: California\\nregion_1: Santa Ynez Valley\\nregion_2: Central Coast\\ntaster_name: \\ntaster_twitter_handle: \\ntitle: Coquelicot 2008 Riesling (Santa Ynez Valley)\\nvariety: Riesling\\nwinery: Coquelicot')]"
      ]
     },
     "execution_count": 21,
     "metadata": {},
     "output_type": "execute_result"
    }
   ],
   "source": [
    "results = vector_store.similarity_search(\n",
    "   response, \n",
    "    k=5, \n",
    "    namespace=os.getenv(\"PINECONE_NAMESPACE\")\n",
    ")\n",
    "\n",
    "results"
   ]
  },
  {
   "cell_type": "code",
   "execution_count": 22,
   "id": "45e2e83b",
   "metadata": {},
   "outputs": [],
   "source": [
    "def search_wine(dish_flavor):\n",
    "    results = vector_store.similarity_search(\n",
    "        dish_flavor, \n",
    "        k=5, \n",
    "        namespace=os.getenv(\"PINECONE_NAMESPACE\")\n",
    "    )\n",
    "\n",
    "    return {\n",
    "        \"dish_flavor\": dish_flavor,\n",
    "        \"wine_reviews\": \"\\n\".join([doc.page_content for doc in results])\n",
    "    }"
   ]
  },
  {
   "cell_type": "code",
   "execution_count": null,
   "id": "3075c4d0",
   "metadata": {},
   "outputs": [
    {
     "name": "stdout",
     "output_type": "stream",
     "text": [
      "이 요리는 판차넬라 샐러드로, 신선한 토마토와 바질의 상큼함이 빵의 고소함과 어우러져 상쾌하고 풍부한 맛을 냅니다.\n",
      ": 12067\n",
      "country: US\n",
      "description: Overtly sweet, this tastes like a dessert pastry turned into wine. The flavors are of orange, pineapple, vanilla-cream and buttered toast.\n",
      "designation: Back Seat Blonde\n",
      "points: 82\n",
      "price: 14.0\n",
      "province: California\n",
      "region_1: Santa Ynez Valley\n",
      "region_2: Central Coast\n",
      "taster_name: \n",
      "taster_twitter_handle: \n",
      "title: Coquelicot 2010 Back Seat Blonde White (Santa Ynez Valley)\n",
      "variety: White Blend\n",
      "winery: Coquelicot\n",
      ": 12067\n",
      "country: US\n",
      "description: Overtly sweet, this tastes like a dessert pastry turned into wine. The flavors are of orange, pineapple, vanilla-cream and buttered toast.\n",
      "designation: Back Seat Blonde\n",
      "points: 82\n",
      "price: 14.0\n",
      "province: California\n",
      "region_1: Santa Ynez Valley\n",
      "region_2: Central Coast\n",
      "taster_name: \n",
      "taster_twitter_handle: \n",
      "title: Coquelicot 2010 Back Seat Blonde White (Santa Ynez Valley)\n",
      "variety: White Blend\n",
      "winery: Coquelicot\n",
      ": 115812\n",
      "country: South Africa\n",
      "description: Vanilla toast and a compelling yeasty character on the nose entice. It's a little brighter on the palate, offering a balanced combination of minerality, acid and cream that lingers.\n",
      "designation: Nine Yards\n",
      "points: 87\n",
      "price: 38.0\n",
      "province: Stellenbosch\n",
      "region_1: \n",
      "region_2: \n",
      "taster_name: Susan Kostrzewa\n",
      "taster_twitter_handle: @suskostrzewa\n",
      "title: Jardin 2004 Nine Yards Chardonnay (Stellenbosch)\n",
      "variety: Chardonnay\n",
      "winery: Jardin\n",
      ": 115812\n",
      "country: South Africa\n",
      "description: Vanilla toast and a compelling yeasty character on the nose entice. It's a little brighter on the palate, offering a balanced combination of minerality, acid and cream that lingers.\n",
      "designation: Nine Yards\n",
      "points: 87\n",
      "price: 38.0\n",
      "province: Stellenbosch\n",
      "region_1: \n",
      "region_2: \n",
      "taster_name: Susan Kostrzewa\n",
      "taster_twitter_handle: @suskostrzewa\n",
      "title: Jardin 2004 Nine Yards Chardonnay (Stellenbosch)\n",
      "variety: Chardonnay\n",
      "winery: Jardin\n",
      ": 125634\n",
      "country: US\n",
      "description: Simple and satisfying with lots of ripe pineapple jam, orange sorbet, caramel, buttered toast, honey and cinnamon spices, in a creamy texture.\n",
      "designation: \n",
      "points: 86\n",
      "price: 22.0\n",
      "province: California\n",
      "region_1: Carneros\n",
      "region_2: Napa-Sonoma\n",
      "taster_name: \n",
      "taster_twitter_handle: \n",
      "title: Jacella 2010 Chardonnay (Carneros)\n",
      "variety: Chardonnay\n",
      "winery: Jacella\n"
     ]
    }
   ],
   "source": [
    "runnable = RunnableLambda(search_wine)\n",
    "response = runnable.invoke(taste_query)\n",
    "print(response['dish_flavor'])\n",
    "print(response['wine_reviews'])"
   ]
  },
  {
   "cell_type": "code",
   "execution_count": 28,
   "id": "a43cac94",
   "metadata": {},
   "outputs": [],
   "source": [
    "from pinecone import Pinecone\n",
    "pc = Pinecone(api_key=os.getenv(\"PINECONE_API_KEY\"))"
   ]
  },
  {
   "cell_type": "code",
   "execution_count": 29,
   "id": "f75736dd",
   "metadata": {},
   "outputs": [],
   "source": [
    "# 기존 인덱스 정보 확인 (차원수 등)\n",
    "existing_index = pc.Index(os.getenv(\"PINECONE_INDEX_NAME\"))\n",
    "index_stats = existing_index.describe_index_stats()"
   ]
  },
  {
   "cell_type": "code",
   "execution_count": 30,
   "id": "17a67b14",
   "metadata": {},
   "outputs": [
    {
     "data": {
      "text/plain": [
       "{'dimension': 1536,\n",
       " 'index_fullness': 0.0,\n",
       " 'metric': 'cosine',\n",
       " 'namespaces': {'wine-reviews-ns1': {'vector_count': 259942},\n",
       "                'wine_description_only': {'vector_count': 130331}},\n",
       " 'total_vector_count': 390273,\n",
       " 'vector_type': 'dense'}"
      ]
     },
     "execution_count": 30,
     "metadata": {},
     "output_type": "execute_result"
    }
   ],
   "source": [
    "index_stats"
   ]
  },
  {
   "cell_type": "code",
   "execution_count": 31,
   "id": "e3006c61",
   "metadata": {},
   "outputs": [
    {
     "data": {
      "text/plain": [
       "[Document(id='9e01a8c3-88cd-4ffa-b606-6158fd44f255', metadata={'country': 'US', 'points': 94.0, 'price': 105.0, 'row': 45019.0, 'title': 'Adelsheim 2013 Winderlea Vineyard Pinot Noir (Dundee Hills)', 'variety': 'Pinot Noir'}, page_content=\"Once again this designate amazes with a surfeit of beautifully integrated flavors. Mushrooms and baking spices adorn an explosion of strawberry pastries. There's plenty of ripe cherry fruit also, and a long, polished, lip-licking finish.\"),\n",
       " Document(id='1235b0ec-e642-42db-a06a-9401c7a60fd9', metadata={'country': 'US', 'points': 94.0, 'price': 50.0, 'row': 59514.0, 'title': 'De Loach 2010 Maboroshi Vineyard Pinot Noir (Russian River Valley)', 'variety': 'Pinot Noir'}, page_content=\"Dazzling with silky richness, this wine is so delicious, you can't help but to fall in love with it. Tantalizing with waves of raspberry and cherry pie, ripe persimmon, mocha, red licorice and smoky oak flavors that finish long and satisfying. The balance of acids and tannins is just about perfect. Calling all steaks for the perfect pairing.\"),\n",
       " Document(id='992a51af-f53d-41f7-bdd0-b812043b6cbc', metadata={'country': 'US', 'points': 94.0, 'price': 110.0, 'row': 117837.0, 'title': 'Schramsberg 2006 Reserve  (North Coast)', 'variety': 'Champagne Blend'}, page_content='This compelling and delicious bottling has a grand bearing, sophisticated flavors and elegant texture, like something the staff at Downton Abbey would serve. The aromas are lightly smoky and spicy, like white pepper and walnuts. Flavors are subtle, dry but somehow rich, as hints of white peach, almond and dried cherry develop.'),\n",
       " Document(id='edae5b43-a5e3-4ca2-bd74-a976e7efd12c', metadata={'country': 'Argentina', 'points': 91.0, 'price': 120.0, 'row': 4367.0, 'title': 'Bodega Chacra 2009 Cincuenta y Cinco Pinot Noir (Río Negro Valley)', 'variety': 'Pinot Noir'}, page_content='A smooth operator with sweet aromas of cotton candy, caramel and baked black plum. The palate is exceedingly flush yet refined, while the meaty flavor profile entails roasted berry fruit and herbs. Finishes with sweet, easy notes of caramel and toast. Drink now through 2013.'),\n",
       " Document(id='63915a8d-4666-466e-a34a-98966c19f115', metadata={'country': 'US', 'points': 87.0, 'price': 13.0, 'row': 92398.0, 'title': 'Shooting Star 2012 Blue Franc Blaufränkisch (Washington)', 'variety': 'Blaufränkisch'}, page_content=\"This offers appealing notes of cranberry, cherry and orange peel along with a kiss of vanilla. It's tart and fresh in style with puckering fruit flavors—perfect for the dinner table.\")]"
      ]
     },
     "execution_count": 31,
     "metadata": {},
     "output_type": "execute_result"
    }
   ],
   "source": [
    "query = \"달콤한 맛을 느낄 수 있는 와인\"\n",
    "\n",
    "results = vector_store.similarity_search(\n",
    "    query, \n",
    "    k=5, \n",
    "    namespace=\"wine_description_only\"\n",
    ")\n",
    "\n",
    "results"
   ]
  },
  {
   "cell_type": "code",
   "execution_count": 32,
   "id": "44c1a9a6",
   "metadata": {},
   "outputs": [],
   "source": [
    "# 국가별 필터링\n",
    "def search_wine_by_country(query, country=\"US\"):\n",
    "    results = vector_store.similarity_search(\n",
    "        query,\n",
    "        k=5,\n",
    "        filter={\"country\": country},\n",
    "        namespace=\"wine_description_only\"\n",
    "    )\n",
    "    return results"
   ]
  },
  {
   "cell_type": "code",
   "execution_count": 33,
   "id": "2f719e21",
   "metadata": {},
   "outputs": [
    {
     "data": {
      "text/plain": [
       "[Document(id='9e01a8c3-88cd-4ffa-b606-6158fd44f255', metadata={'country': 'US', 'points': 94.0, 'price': 105.0, 'row': 45019.0, 'title': 'Adelsheim 2013 Winderlea Vineyard Pinot Noir (Dundee Hills)', 'variety': 'Pinot Noir'}, page_content=\"Once again this designate amazes with a surfeit of beautifully integrated flavors. Mushrooms and baking spices adorn an explosion of strawberry pastries. There's plenty of ripe cherry fruit also, and a long, polished, lip-licking finish.\"),\n",
       " Document(id='1235b0ec-e642-42db-a06a-9401c7a60fd9', metadata={'country': 'US', 'points': 94.0, 'price': 50.0, 'row': 59514.0, 'title': 'De Loach 2010 Maboroshi Vineyard Pinot Noir (Russian River Valley)', 'variety': 'Pinot Noir'}, page_content=\"Dazzling with silky richness, this wine is so delicious, you can't help but to fall in love with it. Tantalizing with waves of raspberry and cherry pie, ripe persimmon, mocha, red licorice and smoky oak flavors that finish long and satisfying. The balance of acids and tannins is just about perfect. Calling all steaks for the perfect pairing.\"),\n",
       " Document(id='992a51af-f53d-41f7-bdd0-b812043b6cbc', metadata={'country': 'US', 'points': 94.0, 'price': 110.0, 'row': 117837.0, 'title': 'Schramsberg 2006 Reserve  (North Coast)', 'variety': 'Champagne Blend'}, page_content='This compelling and delicious bottling has a grand bearing, sophisticated flavors and elegant texture, like something the staff at Downton Abbey would serve. The aromas are lightly smoky and spicy, like white pepper and walnuts. Flavors are subtle, dry but somehow rich, as hints of white peach, almond and dried cherry develop.'),\n",
       " Document(id='63915a8d-4666-466e-a34a-98966c19f115', metadata={'country': 'US', 'points': 87.0, 'price': 13.0, 'row': 92398.0, 'title': 'Shooting Star 2012 Blue Franc Blaufränkisch (Washington)', 'variety': 'Blaufränkisch'}, page_content=\"This offers appealing notes of cranberry, cherry and orange peel along with a kiss of vanilla. It's tart and fresh in style with puckering fruit flavors—perfect for the dinner table.\"),\n",
       " Document(id='77aece17-4ad5-4f23-83c6-245d7e571a58', metadata={'country': 'US', 'points': 87.0, 'price': 13.0, 'row': 92229.0, 'title': 'Shooting Star 2012 Blue Franc Blaufränkisch (Washington)', 'variety': 'Blaufränkisch'}, page_content=\"This offers appealing notes of cranberry, cherry and orange peel along with a kiss of vanilla. It's tart and fresh in style with puckering fruit flavors—perfect for the dinner table.\")]"
      ]
     },
     "execution_count": 33,
     "metadata": {},
     "output_type": "execute_result"
    }
   ],
   "source": [
    "search_wine_by_country(query)"
   ]
  }
 ],
 "metadata": {
  "kernelspec": {
   "display_name": "prompting_env",
   "language": "python",
   "name": "python3"
  },
  "language_info": {
   "codemirror_mode": {
    "name": "ipython",
    "version": 3
   },
   "file_extension": ".py",
   "mimetype": "text/x-python",
   "name": "python",
   "nbconvert_exporter": "python",
   "pygments_lexer": "ipython3",
   "version": "3.12.11"
  }
 },
 "nbformat": 4,
 "nbformat_minor": 5
}
