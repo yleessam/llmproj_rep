{
 "cells": [
  {
   "cell_type": "markdown",
   "id": "33b8528a",
   "metadata": {},
   "source": [
    "# prompt template"
   ]
  },
  {
   "cell_type": "code",
   "execution_count": 4,
   "id": "e8435ce9",
   "metadata": {},
   "outputs": [
    {
     "data": {
      "text/plain": [
       "ChatOpenAI(client=<openai.resources.chat.completions.completions.Completions object at 0x000002391396D880>, async_client=<openai.resources.chat.completions.completions.AsyncCompletions object at 0x0000023913DD9A30>, root_client=<openai.OpenAI object at 0x0000023911155EB0>, root_async_client=<openai.AsyncOpenAI object at 0x000002391396D730>, model_name='gpt-4o-mini', model_kwargs={}, openai_api_key=SecretStr('**********'))"
      ]
     },
     "execution_count": 4,
     "metadata": {},
     "output_type": "execute_result"
    }
   ],
   "source": [
    "from langchain_openai import ChatOpenAI\n",
    "llm = ChatOpenAI(model='gpt-4o-mini')\n",
    "llm"
   ]
  },
  {
   "cell_type": "code",
   "execution_count": 2,
   "id": "abee1386",
   "metadata": {},
   "outputs": [
    {
     "data": {
      "text/plain": [
       "'서울에서 유명한 맛집을 알려주세요'"
      ]
     },
     "execution_count": 2,
     "metadata": {},
     "output_type": "execute_result"
    }
   ],
   "source": [
    "from langchain.prompts import PromptTemplate\n",
    "template = PromptTemplate.from_template(\"{city}에서 {adj} {topic}을 알려주세요\")\n",
    "prompt = template.format(city='서울', adj='유명한', topic='맛집')\n",
    "prompt"
   ]
  },
  {
   "cell_type": "code",
   "execution_count": 5,
   "id": "3fd06197",
   "metadata": {},
   "outputs": [
    {
     "data": {
      "text/plain": [
       "AIMessage(content='서울에는 다양한 맛집이 많아서 선택하기 어렵지만, 몇 가지 유명한 맛집을 추천해드릴게요.\\n\\n1. **광장시장** - 전통시장에서 다양한 길거리 음식을 즐길 수 있습니다. 특히 마약김밥과 빈대떡이 유명합니다.\\n\\n2. **사직식당** - 전통 한식을 제공하는 집으로, 특히 불고기가 맛있습니다.\\n\\n3. **을지로 골뱅이** - 골뱅이무침과 소주를 함께 즐길 수 있는 곳으로 많은 사람들에게 사랑받고 있습니다.\\n\\n4. **가로수길** - 다양한 카페와 레스토랑이 밀집해 있는 지역으로, 한식뿐만 아니라 중식, 양식 등 다양한 음식을 즐길 수 있습니다.\\n\\n5. **삼청동 수제비** - 전통적인 수제비를 맛볼 수 있는 곳으로, 국물과 반찬의 조화가 훌륭합니다.\\n\\n6. **홍대 카페거리지** - 특별한 디저트와 음료를 즐길 수 있는 트렌디한 카페들이 많은 곳입니다.\\n\\n7. **압구정 로데오 거리** - 고급 레스토랑과 패션 브랜드가 많은 지역으로, 다양한 고급 한식과 양식을 경험할 수 있습니다.\\n\\n이 외에도 서울에는 숨겨진 맛집들이 많으니, 개인의 취향에 맞는 맛집을 찾아보시는 것도 좋을 것 같습니다!', additional_kwargs={'refusal': None}, response_metadata={'token_usage': {'completion_tokens': 320, 'prompt_tokens': 16, 'total_tokens': 336, 'completion_tokens_details': {'accepted_prediction_tokens': 0, 'audio_tokens': 0, 'reasoning_tokens': 0, 'rejected_prediction_tokens': 0}, 'prompt_tokens_details': {'audio_tokens': 0, 'cached_tokens': 0}}, 'model_name': 'gpt-4o-mini-2024-07-18', 'system_fingerprint': 'fp_8bda4d3a2c', 'id': 'chatcmpl-CDLv2oZ0FcCgzsMegGPt8bJUR8IqA', 'service_tier': 'default', 'finish_reason': 'stop', 'logprobs': None}, id='run--907afdff-f125-4d84-afc0-45252004d456-0', usage_metadata={'input_tokens': 16, 'output_tokens': 320, 'total_tokens': 336, 'input_token_details': {'audio': 0, 'cache_read': 0}, 'output_token_details': {'audio': 0, 'reasoning': 0}})"
      ]
     },
     "execution_count": 5,
     "metadata": {},
     "output_type": "execute_result"
    }
   ],
   "source": [
    "response = llm.invoke(prompt)\n",
    "response"
   ]
  },
  {
   "cell_type": "code",
   "execution_count": 6,
   "id": "6d5f0d93",
   "metadata": {},
   "outputs": [
    {
     "data": {
      "text/plain": [
       "'서울에는 다양한 맛집이 많아서 선택하기 어렵지만, 몇 가지 유명한 맛집을 추천해드릴게요.\\n\\n1. **광장시장** - 전통시장에서 다양한 길거리 음식을 즐길 수 있습니다. 특히 마약김밥과 빈대떡이 유명합니다.\\n\\n2. **사직식당** - 전통 한식을 제공하는 집으로, 특히 불고기가 맛있습니다.\\n\\n3. **을지로 골뱅이** - 골뱅이무침과 소주를 함께 즐길 수 있는 곳으로 많은 사람들에게 사랑받고 있습니다.\\n\\n4. **가로수길** - 다양한 카페와 레스토랑이 밀집해 있는 지역으로, 한식뿐만 아니라 중식, 양식 등 다양한 음식을 즐길 수 있습니다.\\n\\n5. **삼청동 수제비** - 전통적인 수제비를 맛볼 수 있는 곳으로, 국물과 반찬의 조화가 훌륭합니다.\\n\\n6. **홍대 카페거리지** - 특별한 디저트와 음료를 즐길 수 있는 트렌디한 카페들이 많은 곳입니다.\\n\\n7. **압구정 로데오 거리** - 고급 레스토랑과 패션 브랜드가 많은 지역으로, 다양한 고급 한식과 양식을 경험할 수 있습니다.\\n\\n이 외에도 서울에는 숨겨진 맛집들이 많으니, 개인의 취향에 맞는 맛집을 찾아보시는 것도 좋을 것 같습니다!'"
      ]
     },
     "execution_count": 6,
     "metadata": {},
     "output_type": "execute_result"
    }
   ],
   "source": [
    "response.content"
   ]
  },
  {
   "cell_type": "markdown",
   "id": "5340673b",
   "metadata": {},
   "source": [
    "# template save"
   ]
  },
  {
   "cell_type": "code",
   "execution_count": 7,
   "id": "f8e5304b",
   "metadata": {},
   "outputs": [],
   "source": [
    "template.save('restaurant_tour_prompt.json')"
   ]
  },
  {
   "cell_type": "code",
   "execution_count": 9,
   "id": "da0b3b5d",
   "metadata": {},
   "outputs": [
    {
     "data": {
      "text/plain": [
       "'부산에서 가장 멋진 박물관을 알려주세요'"
      ]
     },
     "execution_count": 9,
     "metadata": {},
     "output_type": "execute_result"
    }
   ],
   "source": [
    "from langchain.prompts import load_prompt\n",
    "temp_load = load_prompt('restaurant_tour_prompt.json')\n",
    "prompt = temp_load.format(city='부산', adj='가장 멋진', topic='박물관')\n",
    "prompt"
   ]
  },
  {
   "cell_type": "markdown",
   "id": "ee244173",
   "metadata": {},
   "source": [
    "# ChatPromptTemplate"
   ]
  },
  {
   "cell_type": "code",
   "execution_count": 10,
   "id": "a507effd",
   "metadata": {},
   "outputs": [
    {
     "data": {
      "text/plain": [
       "ChatPromptTemplate(input_variables=['place', 'question', 'travel', 'when'], input_types={}, partial_variables={}, messages=[SystemMessagePromptTemplate(prompt=PromptTemplate(input_variables=[], input_types={}, partial_variables={}, template='당신은 베테랑 여행 가이드입니다. 고객 맞춤 여행일정 수립을 도와드립니다.'), additional_kwargs={}), HumanMessagePromptTemplate(prompt=PromptTemplate(input_variables=['place', 'travel', 'when'], input_types={}, partial_variables={}, template='{when}에 {place}로 {travel}을 계획중입니다.'), additional_kwargs={}), AIMessagePromptTemplate(prompt=PromptTemplate(input_variables=['place'], input_types={}, partial_variables={}, template='제가 {place}의 전문여행가이드입니다. 어떤 도움이 필요하세요?'), additional_kwargs={}), HumanMessagePromptTemplate(prompt=PromptTemplate(input_variables=['question'], input_types={}, partial_variables={}, template='{question}'), additional_kwargs={})])"
      ]
     },
     "execution_count": 10,
     "metadata": {},
     "output_type": "execute_result"
    }
   ],
   "source": [
    "from langchain.prompts import ChatPromptTemplate\n",
    "\n",
    "chat_template = ChatPromptTemplate.from_messages(\n",
    "  [\n",
    "    ('system', '당신은 베테랑 여행 가이드입니다. 고객 맞춤 여행일정 수립을 도와드립니다.'),\n",
    "    ('human', '{when}에 {place}로 {travel}을 계획중입니다.'),\n",
    "    ('ai', '제가 {place}의 전문여행가이드입니다. 어떤 도움이 필요하세요?'),\n",
    "    ('human', '{question}')\n",
    "  ]\n",
    ")\n",
    "chat_template"
   ]
  },
  {
   "cell_type": "code",
   "execution_count": 11,
   "id": "7e345964",
   "metadata": {},
   "outputs": [
    {
     "data": {
      "text/plain": [
       "[SystemMessage(content='당신은 베테랑 여행 가이드입니다. 고객 맞춤 여행일정 수립을 도와드립니다.', additional_kwargs={}, response_metadata={}),\n",
       " HumanMessage(content='가을에 제주로 자유여행을 계획중입니다.', additional_kwargs={}, response_metadata={}),\n",
       " AIMessage(content='제가 제주의 전문여행가이드입니다. 어떤 도움이 필요하세요?', additional_kwargs={}, response_metadata={}),\n",
       " HumanMessage(content='흥미로운 여행지 3곳 추천해주세요', additional_kwargs={}, response_metadata={})]"
      ]
     },
     "execution_count": 11,
     "metadata": {},
     "output_type": "execute_result"
    }
   ],
   "source": [
    "final_prompt = chat_template.format_messages(when='가을', place='제주', travel='자유여행', question='흥미로운 여행지 3곳 추천해주세요')\n",
    "final_prompt"
   ]
  },
  {
   "cell_type": "code",
   "execution_count": 14,
   "id": "def58861",
   "metadata": {},
   "outputs": [
    {
     "data": {
      "text/plain": [
       "AIMessage(content='가을에 제주를 여행하신다면, 다음 3곳을 추천드립니다:\\n\\n1. **한라산 국립공원**: 제주도의 중앙에 위치한 한라산은 가을철 아름다운 단풍과 울창한 자연을 즐길 수 있는 최고의 장소입니다. 다양한 등산 코스가 있으며, 성판악이나 관음사가 가장 인기 있는 코스입니다. 상단에서는 제주 전경을 한눈에 볼 수 있어 가슴이 뻥 뚫리는 경험을 할 수 있습니다.\\n\\n2. **섭지코지**: 제주 동쪽 해안에 위치한 섭지코지는 푸른 바다와 다양한 생태계를 가진 아름다운 절경을 제공합니다. 가을이면 여유롭게 해안가를 걷고, 아름다운 바다를 감상하면서 사진 촬영을 즐기기 좋습니다. 그리고 근처에 있는 카페에서 제주 특산물로 만든 음료를 즐기는 것도 추천해 드립니다.\\n\\n3. **오름**: 제주에는 수많은 작은 오름(화산체)들이 있습니다. 그 중에서도 **산방산**이나 **봉긋한 망부석오름** 같은 명소는 가을철 흙과 나무 색깔이 조화를 이루어 아름다운 경치를 제공합니다. 비교적 짧은 하이킹 코스이므로 가족 단위 여행에도 적합합니다. 정상에서 바라보는 제주 바다의 경치는 특히 아름답습니다.\\n\\n이 외에도 다양한 장소가 많으니, 원하시는 일정이나 활동에 따라 더욱 맞춤형 추천을 해드릴 수 있습니다!', additional_kwargs={'refusal': None}, response_metadata={'token_usage': {'completion_tokens': 345, 'prompt_tokens': 81, 'total_tokens': 426, 'completion_tokens_details': {'accepted_prediction_tokens': 0, 'audio_tokens': 0, 'reasoning_tokens': 0, 'rejected_prediction_tokens': 0}, 'prompt_tokens_details': {'audio_tokens': 0, 'cached_tokens': 0}}, 'model_name': 'gpt-4o-mini-2024-07-18', 'system_fingerprint': 'fp_8bda4d3a2c', 'id': 'chatcmpl-CDM6LcDjItnp8hs6c3cfdMP5qfzZi', 'service_tier': 'default', 'finish_reason': 'stop', 'logprobs': None}, id='run--c688c223-25e8-4085-96b4-a44a8e971eb7-0', usage_metadata={'input_tokens': 81, 'output_tokens': 345, 'total_tokens': 426, 'input_token_details': {'audio': 0, 'cache_read': 0}, 'output_token_details': {'audio': 0, 'reasoning': 0}})"
      ]
     },
     "execution_count": 14,
     "metadata": {},
     "output_type": "execute_result"
    }
   ],
   "source": [
    "final_response = llm.invoke(final_prompt)\n",
    "final_response"
   ]
  },
  {
   "cell_type": "code",
   "execution_count": 15,
   "id": "5206f58c",
   "metadata": {},
   "outputs": [
    {
     "data": {
      "text/plain": [
       "'가을에 제주를 여행하신다면, 다음 3곳을 추천드립니다:\\n\\n1. **한라산 국립공원**: 제주도의 중앙에 위치한 한라산은 가을철 아름다운 단풍과 울창한 자연을 즐길 수 있는 최고의 장소입니다. 다양한 등산 코스가 있으며, 성판악이나 관음사가 가장 인기 있는 코스입니다. 상단에서는 제주 전경을 한눈에 볼 수 있어 가슴이 뻥 뚫리는 경험을 할 수 있습니다.\\n\\n2. **섭지코지**: 제주 동쪽 해안에 위치한 섭지코지는 푸른 바다와 다양한 생태계를 가진 아름다운 절경을 제공합니다. 가을이면 여유롭게 해안가를 걷고, 아름다운 바다를 감상하면서 사진 촬영을 즐기기 좋습니다. 그리고 근처에 있는 카페에서 제주 특산물로 만든 음료를 즐기는 것도 추천해 드립니다.\\n\\n3. **오름**: 제주에는 수많은 작은 오름(화산체)들이 있습니다. 그 중에서도 **산방산**이나 **봉긋한 망부석오름** 같은 명소는 가을철 흙과 나무 색깔이 조화를 이루어 아름다운 경치를 제공합니다. 비교적 짧은 하이킹 코스이므로 가족 단위 여행에도 적합합니다. 정상에서 바라보는 제주 바다의 경치는 특히 아름답습니다.\\n\\n이 외에도 다양한 장소가 많으니, 원하시는 일정이나 활동에 따라 더욱 맞춤형 추천을 해드릴 수 있습니다!'"
      ]
     },
     "execution_count": 15,
     "metadata": {},
     "output_type": "execute_result"
    }
   ],
   "source": [
    "final_response.content"
   ]
  },
  {
   "cell_type": "code",
   "execution_count": 18,
   "id": "194aff60",
   "metadata": {},
   "outputs": [
    {
     "data": {
      "text/plain": [
       "'당신은 동남아 베테랑 여행 가이드입니다. 고객 맞춤 여행일정 수립을 도와드립니다.12월에 가족여행을 계획중입니다.'"
      ]
     },
     "execution_count": 18,
     "metadata": {},
     "output_type": "execute_result"
    }
   ],
   "source": [
    "prmpt_1 = PromptTemplate.from_template('당신은 {place} 베테랑 여행 가이드입니다. 고객 맞춤 여행일정 수립을 도와드립니다.')\n",
    "prmpt_2 = PromptTemplate.from_template('{when}에 {travel}을 계획중입니다.')\n",
    "\n",
    "concat_prompt = prmpt_1 + prmpt_2\n",
    "concat_prompt.format(place='동남아', when='12월', travel='가족여행')"
   ]
  }
 ],
 "metadata": {
  "kernelspec": {
   "display_name": "prompting_env",
   "language": "python",
   "name": "python3"
  },
  "language_info": {
   "codemirror_mode": {
    "name": "ipython",
    "version": 3
   },
   "file_extension": ".py",
   "mimetype": "text/x-python",
   "name": "python",
   "nbconvert_exporter": "python",
   "pygments_lexer": "ipython3",
   "version": "3.12.11"
  }
 },
 "nbformat": 4,
 "nbformat_minor": 5
}
