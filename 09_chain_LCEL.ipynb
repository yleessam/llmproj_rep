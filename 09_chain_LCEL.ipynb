{
 "cells": [
  {
   "cell_type": "markdown",
   "id": "a54c0a33",
   "metadata": {},
   "source": [
    "LCEL LangChainExpressionLanguage \n",
    "프롬프트 > LLM input > chain input > output > prompt \n",
    "\n",
    "Runnable 인터페이스 > 랭체인 구현하고 있다. "
   ]
  },
  {
   "cell_type": "markdown",
   "id": "9a148223",
   "metadata": {},
   "source": [
    "# SequentialChain"
   ]
  },
  {
   "cell_type": "code",
   "execution_count": 1,
   "id": "40fa906f",
   "metadata": {},
   "outputs": [
    {
     "data": {
      "text/plain": [
       "ChatOpenAI(client=<openai.resources.chat.completions.completions.Completions object at 0x00000234FA70E750>, async_client=<openai.resources.chat.completions.completions.AsyncCompletions object at 0x00000234FC687950>, root_client=<openai.OpenAI object at 0x00000234FA9ECB00>, root_async_client=<openai.AsyncOpenAI object at 0x00000234FC099D30>, model_name='gpt-4o-mini', model_kwargs={}, openai_api_key=SecretStr('**********'))"
      ]
     },
     "execution_count": 1,
     "metadata": {},
     "output_type": "execute_result"
    }
   ],
   "source": [
    "from langchain_openai import ChatOpenAI\n",
    "llm = ChatOpenAI(model='gpt-4o-mini')\n",
    "llm"
   ]
  },
  {
   "cell_type": "code",
   "execution_count": 2,
   "id": "1343649c",
   "metadata": {},
   "outputs": [
    {
     "name": "stderr",
     "output_type": "stream",
     "text": [
      "C:\\Users\\Admin\\AppData\\Local\\Temp\\ipykernel_15816\\1049246028.py:6: LangChainDeprecationWarning: The class `LLMChain` was deprecated in LangChain 0.1.17 and will be removed in 1.0. Use :meth:`~RunnableSequence, e.g., `prompt | llm`` instead.\n",
      "  chain = LLMChain(llm=llm, prompt=template)\n"
     ]
    },
    {
     "data": {
      "text/plain": [
       "LLMChain(verbose=False, prompt=PromptTemplate(input_variables=['city'], input_types={}, partial_variables={}, template='{city}의 랜드마크는 어디인가요?'), llm=ChatOpenAI(client=<openai.resources.chat.completions.completions.Completions object at 0x00000234FA70E750>, async_client=<openai.resources.chat.completions.completions.AsyncCompletions object at 0x00000234FC687950>, root_client=<openai.OpenAI object at 0x00000234FA9ECB00>, root_async_client=<openai.AsyncOpenAI object at 0x00000234FC099D30>, model_name='gpt-4o-mini', model_kwargs={}, openai_api_key=SecretStr('**********')), output_parser=StrOutputParser(), llm_kwargs={})"
      ]
     },
     "execution_count": 2,
     "metadata": {},
     "output_type": "execute_result"
    }
   ],
   "source": [
    "from langchain.prompts import PromptTemplate\n",
    "from langchain.chains import LLMChain\n",
    "\n",
    "template = PromptTemplate.from_template(\"{city}의 랜드마크는 어디인가요?\")\n",
    "\n",
    "chain = LLMChain(llm=llm, prompt=template)\n",
    "chain"
   ]
  },
  {
   "cell_type": "code",
   "execution_count": 3,
   "id": "a8256998",
   "metadata": {},
   "outputs": [
    {
     "data": {
      "text/plain": [
       "{'city': '파리',\n",
       " 'text': '파리의 랜드마크로는 여러 유명한 장소가 있습니다. 주요 랜드마크는 다음과 같습니다:\\n\\n1. **에펠탑 (La Tour Eiffel)** - 파리의 상징이자 세계에서 가장 유명한 구조물 중 하나입니다.\\n2. **루브르 박물관 (Musée du Louvre)** - 세계 최대의 미술관으로, 모나리자와 같은 유명 작품이 소장되어 있습니다.\\n3. **노트르담 대성당 (Notre-Dame de Paris)** - 고딕 양식의 성당으로, 파리의 역사적인 랜드마크 중 하나입니다.\\n4. **샹젤리제 거리 (Avenue des Champs-Élysées)** - 고급 상점과 카페가 즐비한 아름다운 거리입니다.\\n5. **아크 드 트리옌ф (Arc de Triomphe)** - 나폴레옹 시대에 세워진 기념비로, 파리 중심에 위치하고 있습니다.\\n6. **몽마르트 언덕 (Montmartre)** - 예술가들이 자주 찾던 곳으로, 사크레쾨르 성당이 위치해 있습니다.\\n7. **바토무슈 (Bateaux-Mouches)** - 세느강에서 운행되는 유람선으로, 파리의 아름다운 경치를 감상할 수 있습니다.\\n\\n이 외에도 파리에는 많은 역사적인 장소와 아름다운 공간이 많아 관광객들에게 매력적인 도시입니다.'}"
      ]
     },
     "execution_count": 3,
     "metadata": {},
     "output_type": "execute_result"
    }
   ],
   "source": [
    "chain.invoke({'city':'파리'})"
   ]
  },
  {
   "cell_type": "markdown",
   "id": "59de9862",
   "metadata": {},
   "source": [
    "# LCEL 파이프라인 구성"
   ]
  },
  {
   "cell_type": "code",
   "execution_count": null,
   "id": "7fe6b470",
   "metadata": {},
   "outputs": [
    {
     "data": {
      "text/plain": [
       "PromptTemplate(input_variables=['city'], input_types={}, partial_variables={}, template='{city}의 랜드마크는 어디인가요?')\n",
       "| ChatOpenAI(client=<openai.resources.chat.completions.completions.Completions object at 0x00000234FA70E750>, async_client=<openai.resources.chat.completions.completions.AsyncCompletions object at 0x00000234FC687950>, root_client=<openai.OpenAI object at 0x00000234FA9ECB00>, root_async_client=<openai.AsyncOpenAI object at 0x00000234FC099D30>, model_name='gpt-4o-mini', model_kwargs={}, openai_api_key=SecretStr('**********'))"
      ]
     },
     "execution_count": 5,
     "metadata": {},
     "output_type": "execute_result"
    }
   ],
   "source": [
    "chain_lcel = template | llm \n",
    "chain_lcel"
   ]
  },
  {
   "cell_type": "code",
   "execution_count": 6,
   "id": "871bb8b3",
   "metadata": {},
   "outputs": [
    {
     "data": {
      "text/plain": [
       "AIMessage(content='파리에는 많은 유명한 랜드마크가 있습니다. 그 중 일부는 다음과 같습니다:\\n\\n1. **에펠탑 (Tour Eiffel)** - 파리의 상징적인 구조물로, 1889년에 건축되었습니다.\\n2. **루브르 박물관 (Musée du Louvre)** - 세계에서 가장 큰 미술관 중 하나로, 다양한 예술 작품이 전시되어 있습니다.\\n3. **노트르담 대성당 (Cathédrale Notre-Dame de Paris)** - 고딕 양식의 대성당으로, 아름다운 스테인드글라스와 조각으로 유명합니다.\\n4. **샹젤리제 (Champs-Élysées)** - 유명한 대로로, 카페와 상점, 극장이 줄지어 있어 많은 관광객이 찾습니다.\\n5. **개선문 (Arc de Triomphe)** - 나폴레옹이 승리를 기리기 위해 건설한 기념물로, 샹젤리제의 끝에 위치해 있습니다.\\n6. **몽마르트 언덕 (Montmartre)** - 예술가들이 많이 거주했던 곳으로, 사크레쾨르 대성당이 유명합니다.\\n7. **팔레 루앙 (Palais Garnier)** - 화려한 오페라 하우스로, 내부 장식이 매우 아름답습니다.\\n\\n이 외에도 파리에는 많은 역사적인 건축물과 문화 명소가 있습니다.', additional_kwargs={'refusal': None}, response_metadata={'token_usage': {'completion_tokens': 320, 'prompt_tokens': 19, 'total_tokens': 339, 'completion_tokens_details': {'accepted_prediction_tokens': 0, 'audio_tokens': 0, 'reasoning_tokens': 0, 'rejected_prediction_tokens': 0}, 'prompt_tokens_details': {'audio_tokens': 0, 'cached_tokens': 0}}, 'model_name': 'gpt-4o-mini-2024-07-18', 'system_fingerprint': 'fp_8bda4d3a2c', 'id': 'chatcmpl-CDMymmBD3wmZk7WW8OgCF7rY8xmC4', 'service_tier': 'default', 'finish_reason': 'stop', 'logprobs': None}, id='run--641b6a1a-5592-4102-8411-295565f7abbf-0', usage_metadata={'input_tokens': 19, 'output_tokens': 320, 'total_tokens': 339, 'input_token_details': {'audio': 0, 'cache_read': 0}, 'output_token_details': {'audio': 0, 'reasoning': 0}})"
      ]
     },
     "execution_count": 6,
     "metadata": {},
     "output_type": "execute_result"
    }
   ],
   "source": [
    "chain_lcel.invoke({'city':'파리'})"
   ]
  },
  {
   "cell_type": "markdown",
   "id": "71b5ca3b",
   "metadata": {},
   "source": [
    "# Sequential chain 의 구성"
   ]
  },
  {
   "cell_type": "code",
   "execution_count": 7,
   "id": "4fa68939",
   "metadata": {},
   "outputs": [
    {
     "data": {
      "text/plain": [
       "SequentialChain(verbose=False, chains=[LLMChain(verbose=True, prompt=PromptTemplate(input_variables=['city'], input_types={}, partial_variables={}, template='{city}의 랜드마크 1개만 알려주세요. 설명은 필요없고 이름만 1개 알려주세요'), llm=ChatOpenAI(client=<openai.resources.chat.completions.completions.Completions object at 0x00000234FA70E750>, async_client=<openai.resources.chat.completions.completions.AsyncCompletions object at 0x00000234FC687950>, root_client=<openai.OpenAI object at 0x00000234FA9ECB00>, root_async_client=<openai.AsyncOpenAI object at 0x00000234FC099D30>, model_name='gpt-4o-mini', model_kwargs={}, openai_api_key=SecretStr('**********')), output_key='landmark', output_parser=StrOutputParser(), llm_kwargs={}), LLMChain(verbose=False, prompt=PromptTemplate(input_variables=['landmark', 'transport'], input_types={}, partial_variables={}, template='{landmark}에 {transport}로 가는 방법이 무엇인가요'), llm=ChatOpenAI(client=<openai.resources.chat.completions.completions.Completions object at 0x00000234FA70E750>, async_client=<openai.resources.chat.completions.completions.AsyncCompletions object at 0x00000234FC687950>, root_client=<openai.OpenAI object at 0x00000234FA9ECB00>, root_async_client=<openai.AsyncOpenAI object at 0x00000234FC099D30>, model_name='gpt-4o-mini', model_kwargs={}, openai_api_key=SecretStr('**********')), output_parser=StrOutputParser(), llm_kwargs={})], input_variables=['city', 'transport'], output_variables=['text'])"
      ]
     },
     "execution_count": 7,
     "metadata": {},
     "output_type": "execute_result"
    }
   ],
   "source": [
    "from langchain.chains import SequentialChain\n",
    "\n",
    "prompt1 = PromptTemplate.from_template('{city}의 랜드마크 1개만 알려주세요. 설명은 필요없고 이름만 1개 알려주세요')\n",
    "prompt2 = PromptTemplate.from_template('{landmark}에 {transport}로 가는 방법이 무엇인가요')\n",
    "\n",
    "chain1 = LLMChain(llm=llm, prompt=prompt1, output_key='landmark', verbose=True)\n",
    "chain2 = LLMChain(llm=llm, prompt=prompt2)\n",
    "seq_chain = SequentialChain(chains=[chain1, chain2], input_variables=['city','transport' ])\n",
    "seq_chain"
   ]
  },
  {
   "cell_type": "code",
   "execution_count": 8,
   "id": "bdb7f100",
   "metadata": {},
   "outputs": [
    {
     "name": "stdout",
     "output_type": "stream",
     "text": [
      "\n",
      "\n",
      "\u001b[1m> Entering new LLMChain chain...\u001b[0m\n",
      "Prompt after formatting:\n",
      "\u001b[32;1m\u001b[1;3mseoul의 랜드마크 1개만 알려주세요. 설명은 필요없고 이름만 1개 알려주세요\u001b[0m\n",
      "\n",
      "\u001b[1m> Finished chain.\u001b[0m\n"
     ]
    },
    {
     "data": {
      "text/plain": [
       "{'city': 'seoul',\n",
       " 'transport': '지하철',\n",
       " 'text': '경복궁에 지하철로 가는 방법은 다음과 같습니다:\\n\\n1. **지하철 3호선 이용**: 경복궁역에서 하차합니다.\\n   - 경복궁역(3호선) 5번 출구로 나가면 경복궁이 가까이 있습니다.\\n\\n2. **지하철 5호선 이용**: 광화문역에서 하차한 후 도보로 이동할 수 있습니다.\\n   - 광화문역(5호선) 1번 출구로 나와서 도보로 약 10분 정도 걸어가면 경복궁에 도착할 수 있습니다.\\n\\n지하철을 이용할 때는 미리 노선도와 시간표를 확인하고, 스마트폰 앱을 통해 경로를 검색하는 것도 유용합니다. 즐거운 방문 되세요!'}"
      ]
     },
     "execution_count": 8,
     "metadata": {},
     "output_type": "execute_result"
    }
   ],
   "source": [
    "seq_chain.invoke({'city':'seoul', 'transport':'지하철'})"
   ]
  }
 ],
 "metadata": {
  "kernelspec": {
   "display_name": "prompting_env",
   "language": "python",
   "name": "python3"
  },
  "language_info": {
   "codemirror_mode": {
    "name": "ipython",
    "version": 3
   },
   "file_extension": ".py",
   "mimetype": "text/x-python",
   "name": "python",
   "nbconvert_exporter": "python",
   "pygments_lexer": "ipython3",
   "version": "3.12.11"
  }
 },
 "nbformat": 4,
 "nbformat_minor": 5
}
